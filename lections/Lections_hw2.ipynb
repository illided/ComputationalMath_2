{
 "cells": [
  {
   "cell_type": "markdown",
   "id": "13e271a8",
   "metadata": {},
   "source": [
    "# Решение интегрального уравнения первого рода."
   ]
  },
  {
   "cell_type": "markdown",
   "id": "17558bbb",
   "metadata": {},
   "source": [
    "Дано уравнение (22) (см. методичку стр. 23). "
   ]
  },
  {
   "cell_type": "code",
   "execution_count": 66,
   "id": "b11ad768",
   "metadata": {},
   "outputs": [
    {
     "data": {
      "application/javascript": [
       "\n",
       "            setTimeout(function() {\n",
       "                var nbb_cell_id = 66;\n",
       "                var nbb_unformatted_code = \"import numpy as np\\nimport seaborn as sns\\nimport scipy.integrate as integrate\\n\\nfrom tqdm import tqdm\\nfrom typing import Tuple, Callable, List\\nimport itertools\";\n",
       "                var nbb_formatted_code = \"import numpy as np\\nimport seaborn as sns\\nimport scipy.integrate as integrate\\n\\nfrom tqdm import tqdm\\nfrom typing import Tuple, Callable, List\\nimport itertools\";\n",
       "                var nbb_cells = Jupyter.notebook.get_cells();\n",
       "                for (var i = 0; i < nbb_cells.length; ++i) {\n",
       "                    if (nbb_cells[i].input_prompt_number == nbb_cell_id) {\n",
       "                        if (nbb_cells[i].get_text() == nbb_unformatted_code) {\n",
       "                             nbb_cells[i].set_text(nbb_formatted_code);\n",
       "                        }\n",
       "                        break;\n",
       "                    }\n",
       "                }\n",
       "            }, 500);\n",
       "            "
      ],
      "text/plain": [
       "<IPython.core.display.Javascript object>"
      ]
     },
     "metadata": {},
     "output_type": "display_data"
    }
   ],
   "source": [
    "import numpy as np\n",
    "import seaborn as sns\n",
    "import scipy.integrate as integrate\n",
    "\n",
    "from tqdm import tqdm\n",
    "from typing import Tuple, Callable, List\n",
    "import itertools"
   ]
  },
  {
   "cell_type": "code",
   "execution_count": 2,
   "id": "bad6cc2e",
   "metadata": {},
   "outputs": [],
   "source": [
    "sns.set(rc={'figure.figsize':(16, 9)})"
   ]
  },
  {
   "cell_type": "code",
   "execution_count": 3,
   "id": "3ac10729",
   "metadata": {},
   "outputs": [
    {
     "data": {
      "application/javascript": [
       "\n",
       "            setTimeout(function() {\n",
       "                var nbb_cell_id = 3;\n",
       "                var nbb_unformatted_code = \"%load_ext nb_black\";\n",
       "                var nbb_formatted_code = \"%load_ext nb_black\";\n",
       "                var nbb_cells = Jupyter.notebook.get_cells();\n",
       "                for (var i = 0; i < nbb_cells.length; ++i) {\n",
       "                    if (nbb_cells[i].input_prompt_number == nbb_cell_id) {\n",
       "                        if (nbb_cells[i].get_text() == nbb_unformatted_code) {\n",
       "                             nbb_cells[i].set_text(nbb_formatted_code);\n",
       "                        }\n",
       "                        break;\n",
       "                    }\n",
       "                }\n",
       "            }, 500);\n",
       "            "
      ],
      "text/plain": [
       "<IPython.core.display.Javascript object>"
      ]
     },
     "metadata": {},
     "output_type": "display_data"
    }
   ],
   "source": [
    "%load_ext nb_black"
   ]
  },
  {
   "cell_type": "code",
   "execution_count": 4,
   "id": "1ca01fee",
   "metadata": {},
   "outputs": [
    {
     "data": {
      "application/javascript": [
       "\n",
       "            setTimeout(function() {\n",
       "                var nbb_cell_id = 4;\n",
       "                var nbb_unformatted_code = \"OneArgFunc = Callable[[float], float]\\nTwoArgFunc = Callable[[float, float], float]\";\n",
       "                var nbb_formatted_code = \"OneArgFunc = Callable[[float], float]\\nTwoArgFunc = Callable[[float, float], float]\";\n",
       "                var nbb_cells = Jupyter.notebook.get_cells();\n",
       "                for (var i = 0; i < nbb_cells.length; ++i) {\n",
       "                    if (nbb_cells[i].input_prompt_number == nbb_cell_id) {\n",
       "                        if (nbb_cells[i].get_text() == nbb_unformatted_code) {\n",
       "                             nbb_cells[i].set_text(nbb_formatted_code);\n",
       "                        }\n",
       "                        break;\n",
       "                    }\n",
       "                }\n",
       "            }, 500);\n",
       "            "
      ],
      "text/plain": [
       "<IPython.core.display.Javascript object>"
      ]
     },
     "metadata": {},
     "output_type": "display_data"
    }
   ],
   "source": [
    "OneArgFunc = Callable[[float], float]\n",
    "TwoArgFunc = Callable[[float, float], float]"
   ]
  },
  {
   "cell_type": "code",
   "execution_count": 5,
   "id": "1f777330",
   "metadata": {},
   "outputs": [
    {
     "data": {
      "application/javascript": [
       "\n",
       "            setTimeout(function() {\n",
       "                var nbb_cell_id = 5;\n",
       "                var nbb_unformatted_code = \"# \\u0412\\u0430\\u0440\\u0438\\u0430\\u043d\\u0442 34\\n\\ndef K(x: float, s: float) -> float:\\n    return 1 / (3 + s * x)\";\n",
       "                var nbb_formatted_code = \"# \\u0412\\u0430\\u0440\\u0438\\u0430\\u043d\\u0442 34\\n\\n\\ndef K(x: float, s: float) -> float:\\n    return 1 / (3 + s * x)\";\n",
       "                var nbb_cells = Jupyter.notebook.get_cells();\n",
       "                for (var i = 0; i < nbb_cells.length; ++i) {\n",
       "                    if (nbb_cells[i].input_prompt_number == nbb_cell_id) {\n",
       "                        if (nbb_cells[i].get_text() == nbb_unformatted_code) {\n",
       "                             nbb_cells[i].set_text(nbb_formatted_code);\n",
       "                        }\n",
       "                        break;\n",
       "                    }\n",
       "                }\n",
       "            }, 500);\n",
       "            "
      ],
      "text/plain": [
       "<IPython.core.display.Javascript object>"
      ]
     },
     "metadata": {},
     "output_type": "display_data"
    }
   ],
   "source": [
    "# Вариант 34\n",
    "\n",
    "\n",
    "def K(x: float, s: float) -> float:\n",
    "    return 1 / (3 + s * x)"
   ]
  },
  {
   "cell_type": "markdown",
   "id": "ed74233c",
   "metadata": {},
   "source": [
    "## Первый способ\n",
    "Сводим его к СЛАУ (24), для её решения применяем метод регуляризации. \n",
    "\n",
    "Для отладки использовать функции $z_1(s) = 1, z_2(s)=s(1-s)$ по которым строятся соответствующие правые части   "
   ]
  },
  {
   "cell_type": "code",
   "execution_count": 6,
   "id": "f29fc280",
   "metadata": {},
   "outputs": [
    {
     "data": {
      "application/javascript": [
       "\n",
       "            setTimeout(function() {\n",
       "                var nbb_cell_id = 6;\n",
       "                var nbb_unformatted_code = \"def z1(s: float) -> float:\\n    return 1\\n\\n\\ndef u1(x: float) -> float:\\n    if abs(x) < 1e-12:\\n        return 1 / 3\\n    return np.log((x / 3) + 1) / x\\n\\n\\ndef z2(s: float) -> float:\\n    return s * (1 - s)\\n\\n\\ndef u2(x: float) -> float:\\n    if abs(x) < 1e-10:\\n        return 1 / 18\\n    numerator = x * (x + 6) + 6 * (x + 3) * np.log(3 / (x + 3))\\n    denominator = 2 * x ** 3\\n    return numerator / denominator\";\n",
       "                var nbb_formatted_code = \"def z1(s: float) -> float:\\n    return 1\\n\\n\\ndef u1(x: float) -> float:\\n    if abs(x) < 1e-12:\\n        return 1 / 3\\n    return np.log((x / 3) + 1) / x\\n\\n\\ndef z2(s: float) -> float:\\n    return s * (1 - s)\\n\\n\\ndef u2(x: float) -> float:\\n    if abs(x) < 1e-10:\\n        return 1 / 18\\n    numerator = x * (x + 6) + 6 * (x + 3) * np.log(3 / (x + 3))\\n    denominator = 2 * x ** 3\\n    return numerator / denominator\";\n",
       "                var nbb_cells = Jupyter.notebook.get_cells();\n",
       "                for (var i = 0; i < nbb_cells.length; ++i) {\n",
       "                    if (nbb_cells[i].input_prompt_number == nbb_cell_id) {\n",
       "                        if (nbb_cells[i].get_text() == nbb_unformatted_code) {\n",
       "                             nbb_cells[i].set_text(nbb_formatted_code);\n",
       "                        }\n",
       "                        break;\n",
       "                    }\n",
       "                }\n",
       "            }, 500);\n",
       "            "
      ],
      "text/plain": [
       "<IPython.core.display.Javascript object>"
      ]
     },
     "metadata": {},
     "output_type": "display_data"
    }
   ],
   "source": [
    "def z1(s: float) -> float:\n",
    "    return 1\n",
    "\n",
    "\n",
    "def u1(x: float) -> float:\n",
    "    if abs(x) < 1e-12:\n",
    "        return 1 / 3\n",
    "    return np.log((x / 3) + 1) / x\n",
    "\n",
    "\n",
    "def z2(s: float) -> float:\n",
    "    return s * (1 - s)\n",
    "\n",
    "\n",
    "def u2(x: float) -> float:\n",
    "    if abs(x) < 1e-10:\n",
    "        return 1 / 18\n",
    "    numerator = x * (x + 6) + 6 * (x + 3) * np.log(3 / (x + 3))\n",
    "    denominator = 2 * x ** 3\n",
    "    return numerator / denominator"
   ]
  },
  {
   "cell_type": "code",
   "execution_count": 7,
   "id": "43935a90",
   "metadata": {},
   "outputs": [
    {
     "data": {
      "application/javascript": [
       "\n",
       "            setTimeout(function() {\n",
       "                var nbb_cell_id = 7;\n",
       "                var nbb_unformatted_code = \"def create_net(n: int) -> Tuple[np.ndarray, float]:\\n    X = np.linspace(0, 1, num=n + 1)\\n    h = X[1] - X[0]\\n    return (X + h / 2)[:-1], h\";\n",
       "                var nbb_formatted_code = \"def create_net(n: int) -> Tuple[np.ndarray, float]:\\n    X = np.linspace(0, 1, num=n + 1)\\n    h = X[1] - X[0]\\n    return (X + h / 2)[:-1], h\";\n",
       "                var nbb_cells = Jupyter.notebook.get_cells();\n",
       "                for (var i = 0; i < nbb_cells.length; ++i) {\n",
       "                    if (nbb_cells[i].input_prompt_number == nbb_cell_id) {\n",
       "                        if (nbb_cells[i].get_text() == nbb_unformatted_code) {\n",
       "                             nbb_cells[i].set_text(nbb_formatted_code);\n",
       "                        }\n",
       "                        break;\n",
       "                    }\n",
       "                }\n",
       "            }, 500);\n",
       "            "
      ],
      "text/plain": [
       "<IPython.core.display.Javascript object>"
      ]
     },
     "metadata": {},
     "output_type": "display_data"
    }
   ],
   "source": [
    "def create_net(n: int) -> Tuple[np.ndarray, float]:\n",
    "    X = np.linspace(0, 1, num=n + 1)\n",
    "    h = X[1] - X[0]\n",
    "    return (X + h / 2)[:-1], h"
   ]
  },
  {
   "cell_type": "code",
   "execution_count": 8,
   "id": "3a38f5aa",
   "metadata": {},
   "outputs": [
    {
     "data": {
      "application/javascript": [
       "\n",
       "            setTimeout(function() {\n",
       "                var nbb_cell_id = 8;\n",
       "                var nbb_unformatted_code = \"def solve_equation(kernel: TwoArgFunc, right: OneArgFunc, n: int, alpha) -> Tuple[np.ndarray, np.ndarray]:\\n    net, A = create_net(n)\\n    S = np.identity(n)\\n    u = np.zeros(n)\\n    for j, el_j in enumerate(net):\\n        u[j] = right(el_j)\\n        for k, el_k in enumerate(net):\\n            S[j][k] = kernel(el_j, el_k)\\n    \\n    S_star = np.conjugate(S)\\n    left_side = A ** 2 * S_star @ S + alpha * np.identity(n)\\n    right_side = A * S_star @ u\\n    return net, np.linalg.solve(left_side, right_side)\";\n",
       "                var nbb_formatted_code = \"def solve_equation(\\n    kernel: TwoArgFunc, right: OneArgFunc, n: int, alpha\\n) -> Tuple[np.ndarray, np.ndarray]:\\n    net, A = create_net(n)\\n    S = np.identity(n)\\n    u = np.zeros(n)\\n    for j, el_j in enumerate(net):\\n        u[j] = right(el_j)\\n        for k, el_k in enumerate(net):\\n            S[j][k] = kernel(el_j, el_k)\\n\\n    S_star = np.conjugate(S)\\n    left_side = A ** 2 * S_star @ S + alpha * np.identity(n)\\n    right_side = A * S_star @ u\\n    return net, np.linalg.solve(left_side, right_side)\";\n",
       "                var nbb_cells = Jupyter.notebook.get_cells();\n",
       "                for (var i = 0; i < nbb_cells.length; ++i) {\n",
       "                    if (nbb_cells[i].input_prompt_number == nbb_cell_id) {\n",
       "                        if (nbb_cells[i].get_text() == nbb_unformatted_code) {\n",
       "                             nbb_cells[i].set_text(nbb_formatted_code);\n",
       "                        }\n",
       "                        break;\n",
       "                    }\n",
       "                }\n",
       "            }, 500);\n",
       "            "
      ],
      "text/plain": [
       "<IPython.core.display.Javascript object>"
      ]
     },
     "metadata": {},
     "output_type": "display_data"
    }
   ],
   "source": [
    "def solve_equation(\n",
    "    kernel: TwoArgFunc, right: OneArgFunc, n: int, alpha\n",
    ") -> Tuple[np.ndarray, np.ndarray]:\n",
    "    net, A = create_net(n)\n",
    "    S = np.identity(n)\n",
    "    u = np.zeros(n)\n",
    "    for j, el_j in enumerate(net):\n",
    "        u[j] = right(el_j)\n",
    "        for k, el_k in enumerate(net):\n",
    "            S[j][k] = kernel(el_j, el_k)\n",
    "\n",
    "    S_star = np.conjugate(S)\n",
    "    left_side = A ** 2 * S_star @ S + alpha * np.identity(n)\n",
    "    right_side = A * S_star @ u\n",
    "    return net, np.linalg.solve(left_side, right_side)"
   ]
  },
  {
   "cell_type": "code",
   "execution_count": 9,
   "id": "9c6151f0",
   "metadata": {},
   "outputs": [
    {
     "data": {
      "application/javascript": [
       "\n",
       "            setTimeout(function() {\n",
       "                var nbb_cell_id = 9;\n",
       "                var nbb_unformatted_code = \"def verify_solution(net: np.ndarray, solution: np.ndarray, right: OneArgFunc):\\n    actual = [integrate.quad(lambda s: solution[i] * K(x, s), 0, 1)[0] for i, x in enumerate(net)]\\n    expected = [right(x) for x in net]\\n    return np.abs(1 - np.linalg.norm(actual) / np.linalg.norm(expected))\";\n",
       "                var nbb_formatted_code = \"def verify_solution(net: np.ndarray, solution: np.ndarray, right: OneArgFunc):\\n    actual = [\\n        integrate.quad(lambda s: solution[i] * K(x, s), 0, 1)[0]\\n        for i, x in enumerate(net)\\n    ]\\n    expected = [right(x) for x in net]\\n    return np.abs(1 - np.linalg.norm(actual) / np.linalg.norm(expected))\";\n",
       "                var nbb_cells = Jupyter.notebook.get_cells();\n",
       "                for (var i = 0; i < nbb_cells.length; ++i) {\n",
       "                    if (nbb_cells[i].input_prompt_number == nbb_cell_id) {\n",
       "                        if (nbb_cells[i].get_text() == nbb_unformatted_code) {\n",
       "                             nbb_cells[i].set_text(nbb_formatted_code);\n",
       "                        }\n",
       "                        break;\n",
       "                    }\n",
       "                }\n",
       "            }, 500);\n",
       "            "
      ],
      "text/plain": [
       "<IPython.core.display.Javascript object>"
      ]
     },
     "metadata": {},
     "output_type": "display_data"
    }
   ],
   "source": [
    "def verify_solution(net: np.ndarray, solution: np.ndarray, right: OneArgFunc):\n",
    "    actual = [\n",
    "        integrate.quad(lambda s: solution[i] * K(x, s), 0, 1)[0]\n",
    "        for i, x in enumerate(net)\n",
    "    ]\n",
    "    expected = [right(x) for x in net]\n",
    "    return np.abs(1 - np.linalg.norm(actual) / np.linalg.norm(expected))"
   ]
  },
  {
   "cell_type": "code",
   "execution_count": 88,
   "id": "824aef9a",
   "metadata": {},
   "outputs": [
    {
     "data": {
      "application/javascript": [
       "\n",
       "            setTimeout(function() {\n",
       "                var nbb_cell_id = 88;\n",
       "                var nbb_unformatted_code = \"def search_alpha(\\n    kernel: TwoArgFunc,\\n    right: OneArgFunc,\\n    alpha_edges: Tuple = None,\\n    precision: int = 100,\\n    n: int = 1000,\\n):\\n    if alpha_edges is None:\\n        alpha_edges = (-20.0, 0)\\n\\n    alpha_space = np.logspace(alpha_edges[0], alpha_edges[1], precision)\\n    best_alpha = 0\\n    best_error = np.inf\\n    error_trace = []\\n    for alpha in tqdm(alpha_space):\\n        net, solution = solve_equation(kernel, right, n, alpha)\\n        error = verify_solution(net, solution, right)\\n        if error < best_error:\\n            best_error = error\\n            best_alpha = alpha\\n        error_trace.append(error)\\n\\n    ax = sns.lineplot(x=alpha_space, y=error_trace)\\n    ax.set(yscale=\\\"log\\\", ylabel='\\u041e\\u0442\\u043d\\u043e\\u0441\\u0438\\u0442\\u0435\\u043b\\u044c\\u043d\\u0430\\u044f \\u043f\\u043e\\u0433\\u0440\\u0435\\u0448\\u043d\\u043e\\u0441\\u0442\\u044c', xscale=\\\"log\\\", xlabel='\\u041f\\u0430\\u0440\\u0430\\u043c\\u0435\\u0442\\u0440 alpha')\\n    return best_alpha\";\n",
       "                var nbb_formatted_code = \"def search_alpha(\\n    kernel: TwoArgFunc,\\n    right: OneArgFunc,\\n    alpha_edges: Tuple = None,\\n    precision: int = 100,\\n    n: int = 1000,\\n):\\n    if alpha_edges is None:\\n        alpha_edges = (-20.0, 0)\\n\\n    alpha_space = np.logspace(alpha_edges[0], alpha_edges[1], precision)\\n    best_alpha = 0\\n    best_error = np.inf\\n    error_trace = []\\n    for alpha in tqdm(alpha_space):\\n        net, solution = solve_equation(kernel, right, n, alpha)\\n        error = verify_solution(net, solution, right)\\n        if error < best_error:\\n            best_error = error\\n            best_alpha = alpha\\n        error_trace.append(error)\\n\\n    ax = sns.lineplot(x=alpha_space, y=error_trace)\\n    ax.set(\\n        yscale=\\\"log\\\",\\n        ylabel=\\\"\\u041e\\u0442\\u043d\\u043e\\u0441\\u0438\\u0442\\u0435\\u043b\\u044c\\u043d\\u0430\\u044f \\u043f\\u043e\\u0433\\u0440\\u0435\\u0448\\u043d\\u043e\\u0441\\u0442\\u044c\\\",\\n        xscale=\\\"log\\\",\\n        xlabel=\\\"\\u041f\\u0430\\u0440\\u0430\\u043c\\u0435\\u0442\\u0440 alpha\\\",\\n    )\\n    return best_alpha\";\n",
       "                var nbb_cells = Jupyter.notebook.get_cells();\n",
       "                for (var i = 0; i < nbb_cells.length; ++i) {\n",
       "                    if (nbb_cells[i].input_prompt_number == nbb_cell_id) {\n",
       "                        if (nbb_cells[i].get_text() == nbb_unformatted_code) {\n",
       "                             nbb_cells[i].set_text(nbb_formatted_code);\n",
       "                        }\n",
       "                        break;\n",
       "                    }\n",
       "                }\n",
       "            }, 500);\n",
       "            "
      ],
      "text/plain": [
       "<IPython.core.display.Javascript object>"
      ]
     },
     "metadata": {},
     "output_type": "display_data"
    }
   ],
   "source": [
    "def search_alpha(\n",
    "    kernel: TwoArgFunc,\n",
    "    right: OneArgFunc,\n",
    "    alpha_edges: Tuple = None,\n",
    "    precision: int = 100,\n",
    "    n: int = 1000,\n",
    "):\n",
    "    if alpha_edges is None:\n",
    "        alpha_edges = (-20.0, 0)\n",
    "\n",
    "    alpha_space = np.logspace(alpha_edges[0], alpha_edges[1], precision)\n",
    "    best_alpha = 0\n",
    "    best_error = np.inf\n",
    "    error_trace = []\n",
    "    for alpha in tqdm(alpha_space):\n",
    "        net, solution = solve_equation(kernel, right, n, alpha)\n",
    "        error = verify_solution(net, solution, right)\n",
    "        if error < best_error:\n",
    "            best_error = error\n",
    "            best_alpha = alpha\n",
    "        error_trace.append(error)\n",
    "\n",
    "    ax = sns.lineplot(x=alpha_space, y=error_trace)\n",
    "    ax.set(\n",
    "        yscale=\"log\",\n",
    "        ylabel=\"Относительная погрешность\",\n",
    "        xscale=\"log\",\n",
    "        xlabel=\"Параметр alpha\",\n",
    "    )\n",
    "    return best_alpha"
   ]
  },
  {
   "cell_type": "code",
   "execution_count": 89,
   "id": "2fe09ca8",
   "metadata": {
    "scrolled": false
   },
   "outputs": [
    {
     "name": "stderr",
     "output_type": "stream",
     "text": [
      "100%|█████████████████████████████████████████| 100/100 [01:01<00:00,  1.61it/s]\n"
     ]
    },
    {
     "data": {
      "text/plain": [
       "1.2915496650148826e-09"
      ]
     },
     "execution_count": 89,
     "metadata": {},
     "output_type": "execute_result"
    },
    {
     "data": {
      "image/png": "[encoded data removed]",
      "text/plain": [
       "<Figure size 1152x648 with 1 Axes>"
      ]
     },
     "metadata": {},
     "output_type": "display_data"
    },
    {
     "data": {
      "application/javascript": [
       "\n",
       "            setTimeout(function() {\n",
       "                var nbb_cell_id = 89;\n",
       "                var nbb_unformatted_code = \"search_alpha(K, u1)\";\n",
       "                var nbb_formatted_code = \"search_alpha(K, u1)\";\n",
       "                var nbb_cells = Jupyter.notebook.get_cells();\n",
       "                for (var i = 0; i < nbb_cells.length; ++i) {\n",
       "                    if (nbb_cells[i].input_prompt_number == nbb_cell_id) {\n",
       "                        if (nbb_cells[i].get_text() == nbb_unformatted_code) {\n",
       "                             nbb_cells[i].set_text(nbb_formatted_code);\n",
       "                        }\n",
       "                        break;\n",
       "                    }\n",
       "                }\n",
       "            }, 500);\n",
       "            "
      ],
      "text/plain": [
       "<IPython.core.display.Javascript object>"
      ]
     },
     "metadata": {},
     "output_type": "display_data"
    }
   ],
   "source": [
    "search_alpha(K, u1)"
   ]
  },
  {
   "cell_type": "code",
   "execution_count": 90,
   "id": "4f6c9d3c",
   "metadata": {},
   "outputs": [
    {
     "name": "stderr",
     "output_type": "stream",
     "text": [
      "100%|█████████████████████████████████████████| 100/100 [01:03<00:00,  1.57it/s]\n"
     ]
    },
    {
     "data": {
      "text/plain": [
       "2.1544346900318867e-07"
      ]
     },
     "execution_count": 90,
     "metadata": {},
     "output_type": "execute_result"
    },
    {
     "data": {
      "image/png": "[encoded data removed]",
      "text/plain": [
       "<Figure size 1152x648 with 1 Axes>"
      ]
     },
     "metadata": {},
     "output_type": "display_data"
    },
    {
     "data": {
      "application/javascript": [
       "\n",
       "            setTimeout(function() {\n",
       "                var nbb_cell_id = 90;\n",
       "                var nbb_unformatted_code = \"search_alpha(K, u2)\";\n",
       "                var nbb_formatted_code = \"search_alpha(K, u2)\";\n",
       "                var nbb_cells = Jupyter.notebook.get_cells();\n",
       "                for (var i = 0; i < nbb_cells.length; ++i) {\n",
       "                    if (nbb_cells[i].input_prompt_number == nbb_cell_id) {\n",
       "                        if (nbb_cells[i].get_text() == nbb_unformatted_code) {\n",
       "                             nbb_cells[i].set_text(nbb_formatted_code);\n",
       "                        }\n",
       "                        break;\n",
       "                    }\n",
       "                }\n",
       "            }, 500);\n",
       "            "
      ],
      "text/plain": [
       "<IPython.core.display.Javascript object>"
      ]
     },
     "metadata": {},
     "output_type": "display_data"
    }
   ],
   "source": [
    "search_alpha(K, u2)"
   ]
  },
  {
   "cell_type": "code",
   "execution_count": 102,
   "id": "114fda63",
   "metadata": {},
   "outputs": [
    {
     "data": {
      "application/javascript": [
       "\n",
       "            setTimeout(function() {\n",
       "                var nbb_cell_id = 102;\n",
       "                var nbb_unformatted_code = \"import time\\n\\ntimes = []\\nn_space = [10, 50, 100, 500, 1000, 5000, 10_000]\\nfor n in n_space:\\n    start = time.perf_counter()\\n    solve_equation(K, u1, n, 1e-9)\\n    elapsed = time.perf_counter()\\n    times.append(elapsed - start)\";\n",
       "                var nbb_formatted_code = \"import time\\n\\ntimes = []\\nn_space = [10, 50, 100, 500, 1000, 5000, 10_000]\\nfor n in n_space:\\n    start = time.perf_counter()\\n    solve_equation(K, u1, n, 1e-9)\\n    elapsed = time.perf_counter()\\n    times.append(elapsed - start)\";\n",
       "                var nbb_cells = Jupyter.notebook.get_cells();\n",
       "                for (var i = 0; i < nbb_cells.length; ++i) {\n",
       "                    if (nbb_cells[i].input_prompt_number == nbb_cell_id) {\n",
       "                        if (nbb_cells[i].get_text() == nbb_unformatted_code) {\n",
       "                             nbb_cells[i].set_text(nbb_formatted_code);\n",
       "                        }\n",
       "                        break;\n",
       "                    }\n",
       "                }\n",
       "            }, 500);\n",
       "            "
      ],
      "text/plain": [
       "<IPython.core.display.Javascript object>"
      ]
     },
     "metadata": {},
     "output_type": "display_data"
    }
   ],
   "source": [
    "import time\n",
    "\n",
    "times = []\n",
    "n_space = [10, 50, 100, 500, 1000, 5000, 10_000]\n",
    "for n in n_space:\n",
    "    start = time.perf_counter()\n",
    "    solve_equation(K, u1, n, 1e-9)\n",
    "    elapsed = time.perf_counter()\n",
    "    times.append(elapsed - start)"
   ]
  },
  {
   "cell_type": "code",
   "execution_count": 103,
   "id": "2e697af4",
   "metadata": {},
   "outputs": [
    {
     "data": {
      "text/plain": [
       "{10: 0.0002621749990794342,\n",
       " 50: 0.002975887000502553,\n",
       " 100: 0.01850851799827069,\n",
       " 500: 0.1845023969981412,\n",
       " 1000: 0.5765799040018464,\n",
       " 5000: 14.685477353999886,\n",
       " 10000: 65.36945196500164}"
      ]
     },
     "execution_count": 103,
     "metadata": {},
     "output_type": "execute_result"
    },
    {
     "data": {
      "application/javascript": [
       "\n",
       "            setTimeout(function() {\n",
       "                var nbb_cell_id = 103;\n",
       "                var nbb_unformatted_code = \"dict(zip(n_space, times))\";\n",
       "                var nbb_formatted_code = \"dict(zip(n_space, times))\";\n",
       "                var nbb_cells = Jupyter.notebook.get_cells();\n",
       "                for (var i = 0; i < nbb_cells.length; ++i) {\n",
       "                    if (nbb_cells[i].input_prompt_number == nbb_cell_id) {\n",
       "                        if (nbb_cells[i].get_text() == nbb_unformatted_code) {\n",
       "                             nbb_cells[i].set_text(nbb_formatted_code);\n",
       "                        }\n",
       "                        break;\n",
       "                    }\n",
       "                }\n",
       "            }, 500);\n",
       "            "
      ],
      "text/plain": [
       "<IPython.core.display.Javascript object>"
      ]
     },
     "metadata": {},
     "output_type": "display_data"
    }
   ],
   "source": [
    "dict(zip(n_space, times))"
   ]
  },
  {
   "cell_type": "code",
   "execution_count": 104,
   "id": "2e23d549",
   "metadata": {},
   "outputs": [
    {
     "name": "stdout",
     "output_type": "stream",
     "text": [
      "Несовпадение норм 5.486305298951777e-09%\n"
     ]
    },
    {
     "data": {
      "image/png": "[encoded data removed]",
      "text/plain": [
       "<Figure size 1152x648 with 1 Axes>"
      ]
     },
     "metadata": {},
     "output_type": "display_data"
    },
    {
     "data": {
      "application/javascript": [
       "\n",
       "            setTimeout(function() {\n",
       "                var nbb_cell_id = 104;\n",
       "                var nbb_unformatted_code = \"net, solution = solve_equation(K, u1, 10_000, 1.63e-9)\\n\\nsns.lineplot(x=net, y=solution)\\n# sns.lineplot(x=net, y=np.ones(10_000))\\n\\nprint(f\\\"\\u041d\\u0435\\u0441\\u043e\\u0432\\u043f\\u0430\\u0434\\u0435\\u043d\\u0438\\u0435 \\u043d\\u043e\\u0440\\u043c {verify_solution(net, solution, u1):3}%\\\")\";\n",
       "                var nbb_formatted_code = \"net, solution = solve_equation(K, u1, 10_000, 1.63e-9)\\n\\nsns.lineplot(x=net, y=solution)\\n# sns.lineplot(x=net, y=np.ones(10_000))\\n\\nprint(f\\\"\\u041d\\u0435\\u0441\\u043e\\u0432\\u043f\\u0430\\u0434\\u0435\\u043d\\u0438\\u0435 \\u043d\\u043e\\u0440\\u043c {verify_solution(net, solution, u1):3}%\\\")\";\n",
       "                var nbb_cells = Jupyter.notebook.get_cells();\n",
       "                for (var i = 0; i < nbb_cells.length; ++i) {\n",
       "                    if (nbb_cells[i].input_prompt_number == nbb_cell_id) {\n",
       "                        if (nbb_cells[i].get_text() == nbb_unformatted_code) {\n",
       "                             nbb_cells[i].set_text(nbb_formatted_code);\n",
       "                        }\n",
       "                        break;\n",
       "                    }\n",
       "                }\n",
       "            }, 500);\n",
       "            "
      ],
      "text/plain": [
       "<IPython.core.display.Javascript object>"
      ]
     },
     "metadata": {},
     "output_type": "display_data"
    }
   ],
   "source": [
    "net, solution = solve_equation(K, u1, 10_000, 1.63e-9)\n",
    "\n",
    "sns.lineplot(x=net, y=solution)\n",
    "# sns.lineplot(x=net, y=np.ones(10_000))\n",
    "\n",
    "print(f\"Несовпадение норм {verify_solution(net, solution, u1):3}%\")"
   ]
  },
  {
   "cell_type": "markdown",
   "id": "2d1322ef",
   "metadata": {},
   "source": [
    "## Второй способ\n",
    "Решается уравнение (27) с однородными граничными условиями $z(0)=z(1)=0$ (см. стр. 26). \n",
    "Уравнение Эйлера (32), его аппроксимация приведена на стр. 27, в итоге приходим к СЛАУ, \n",
    "для решения которых применяется первый способ и отлаживается на тех же функциях. "
   ]
  },
  {
   "cell_type": "code",
   "execution_count": 13,
   "id": "92f95ad0",
   "metadata": {},
   "outputs": [
    {
     "data": {
      "application/javascript": [
       "\n",
       "            setTimeout(function() {\n",
       "                var nbb_cell_id = 13;\n",
       "                var nbb_unformatted_code = \"def K1(s: float, t: float) -> float:\\n    if abs(s - t) < 10**(-15):\\n        return 1 / (3 * t + 9)\\n    numerator = np.log(s + 3) - np.log(t + 3)\\n    denominator = 3 * (s - t)\\n    return numerator / denominator\";\n",
       "                var nbb_formatted_code = \"def K1(s: float, t: float) -> float:\\n    if abs(s - t) < 10 ** (-15):\\n        return 1 / (3 * t + 9)\\n    numerator = np.log(s + 3) - np.log(t + 3)\\n    denominator = 3 * (s - t)\\n    return numerator / denominator\";\n",
       "                var nbb_cells = Jupyter.notebook.get_cells();\n",
       "                for (var i = 0; i < nbb_cells.length; ++i) {\n",
       "                    if (nbb_cells[i].input_prompt_number == nbb_cell_id) {\n",
       "                        if (nbb_cells[i].get_text() == nbb_unformatted_code) {\n",
       "                             nbb_cells[i].set_text(nbb_formatted_code);\n",
       "                        }\n",
       "                        break;\n",
       "                    }\n",
       "                }\n",
       "            }, 500);\n",
       "            "
      ],
      "text/plain": [
       "<IPython.core.display.Javascript object>"
      ]
     },
     "metadata": {},
     "output_type": "display_data"
    }
   ],
   "source": [
    "def K1(s: float, t: float) -> float:\n",
    "    if abs(s - t) < 10 ** (-15):\n",
    "        return 1 / (3 * t + 9)\n",
    "    numerator = np.log(s + 3) - np.log(t + 3)\n",
    "    denominator = 3 * (s - t)\n",
    "    return numerator / denominator"
   ]
  },
  {
   "cell_type": "code",
   "execution_count": 78,
   "id": "5f2e70a7",
   "metadata": {},
   "outputs": [
    {
     "data": {
      "application/javascript": [
       "\n",
       "            setTimeout(function() {\n",
       "                var nbb_cell_id = 78;\n",
       "                var nbb_unformatted_code = \"z_0 = 0\\nz_1 = 0\";\n",
       "                var nbb_formatted_code = \"z_0 = 0\\nz_1 = 0\";\n",
       "                var nbb_cells = Jupyter.notebook.get_cells();\n",
       "                for (var i = 0; i < nbb_cells.length; ++i) {\n",
       "                    if (nbb_cells[i].input_prompt_number == nbb_cell_id) {\n",
       "                        if (nbb_cells[i].get_text() == nbb_unformatted_code) {\n",
       "                             nbb_cells[i].set_text(nbb_formatted_code);\n",
       "                        }\n",
       "                        break;\n",
       "                    }\n",
       "                }\n",
       "            }, 500);\n",
       "            "
      ],
      "text/plain": [
       "<IPython.core.display.Javascript object>"
      ]
     },
     "metadata": {},
     "output_type": "display_data"
    }
   ],
   "source": [
    "z_0 = 0\n",
    "z_1 = 0"
   ]
  },
  {
   "cell_type": "markdown",
   "id": "1a5f22a1",
   "metadata": {},
   "source": [
    "Уравнение из методички представимо в виде: $\\alpha R + S = U$\n",
    "\n",
    "Где $R$ трехдиагональная матрица, $S$ матрица похожая на предыдущую матрицу $S$, а $U$ вектор значений правой части"
   ]
  },
  {
   "cell_type": "code",
   "execution_count": 16,
   "id": "6ea9c319",
   "metadata": {},
   "outputs": [
    {
     "data": {
      "application/javascript": [
       "\n",
       "            setTimeout(function() {\n",
       "                var nbb_cell_id = 16;\n",
       "                var nbb_unformatted_code = \"def set_diag(A, val, offset=0):\\n    offset = - offset\\n    if not isinstance(val, np.ndarray):\\n        val = np.full(A.shape[0] - abs(offset), val)\\n    indices = np.diag_indices_from(A)\\n    indices = indices[0] + offset, indices[1]\\n    if offset > 0:\\n        indices = indices[0][:-offset], indices[1][:-offset]\\n    else:\\n        indices = indices[0][-offset:], indices[1][-offset:]\\n        \\n    A[indices] = val\";\n",
       "                var nbb_formatted_code = \"def set_diag(A, val, offset=0):\\n    offset = -offset\\n    if not isinstance(val, np.ndarray):\\n        val = np.full(A.shape[0] - abs(offset), val)\\n    indices = np.diag_indices_from(A)\\n    indices = indices[0] + offset, indices[1]\\n    if offset > 0:\\n        indices = indices[0][:-offset], indices[1][:-offset]\\n    else:\\n        indices = indices[0][-offset:], indices[1][-offset:]\\n\\n    A[indices] = val\";\n",
       "                var nbb_cells = Jupyter.notebook.get_cells();\n",
       "                for (var i = 0; i < nbb_cells.length; ++i) {\n",
       "                    if (nbb_cells[i].input_prompt_number == nbb_cell_id) {\n",
       "                        if (nbb_cells[i].get_text() == nbb_unformatted_code) {\n",
       "                             nbb_cells[i].set_text(nbb_formatted_code);\n",
       "                        }\n",
       "                        break;\n",
       "                    }\n",
       "                }\n",
       "            }, 500);\n",
       "            "
      ],
      "text/plain": [
       "<IPython.core.display.Javascript object>"
      ]
     },
     "metadata": {},
     "output_type": "display_data"
    }
   ],
   "source": [
    "def set_diag(A, val, offset=0):\n",
    "    offset = -offset\n",
    "    if not isinstance(val, np.ndarray):\n",
    "        val = np.full(A.shape[0] - abs(offset), val)\n",
    "    indices = np.diag_indices_from(A)\n",
    "    indices = indices[0] + offset, indices[1]\n",
    "    if offset > 0:\n",
    "        indices = indices[0][:-offset], indices[1][:-offset]\n",
    "    else:\n",
    "        indices = indices[0][-offset:], indices[1][-offset:]\n",
    "\n",
    "    A[indices] = val"
   ]
  },
  {
   "cell_type": "code",
   "execution_count": 76,
   "id": "1ea4957f",
   "metadata": {},
   "outputs": [
    {
     "data": {
      "application/javascript": [
       "\n",
       "            setTimeout(function() {\n",
       "                var nbb_cell_id = 76;\n",
       "                var nbb_unformatted_code = \"class EquationSolver:\\n    def __init__(\\n        self, n: int, alpha: float, right: OneArgFunc, p: OneArgFunc, r: OneArgFunc\\n    ):\\n        self.N = n\\n        self.alpha = alpha\\n        self.right = right\\n        self.p = p\\n        self.r = r\\n\\n        self.net = np.linspace(0, 1, n)\\n        self.h = self.net[1] - self.net[0]\\n        self.solution = self.solve_equation()\\n\\n    def p_left(self, i):\\n        return self.p((self.net[i] + self.net[i - 1]) / 2)\\n\\n    def p_right(self, i):\\n        return self.p((self.net[i] + self.net[i + 1]) / 2)\\n\\n    def generate_R(self) -> np.ndarray:\\n        upper_rim = -np.array([self.p_left(i) for i in range(2, self.N - 1)]) / (\\n            self.h ** 2\\n        )\\n\\n        lower_rim = -np.array([self.p_right(i) for i in range(1, self.N - 2)]) / (\\n            self.h ** 2\\n        )\\n\\n        diagonal = np.array(\\n            [\\n                (self.p_left(i) + self.p_right(i)) / (self.h ** 2) + self.r(self.net[i])\\n                for i in range(1, self.N - 1)\\n            ]\\n        )\\n\\n        R = np.zeros((self.N - 2, self.N - 2))\\n        set_diag(R, diagonal)\\n        set_diag(R, lower_rim, offset=-1)\\n        set_diag(R, upper_rim, offset=1)\\n\\n        return R\\n\\n    def generate_S(self) -> np.ndarray:\\n        S = np.identity(self.N - 2)\\n        for j, el_j in enumerate(self.net[1:-1]):\\n            for k, el_k in enumerate(self.net[1:-1]):\\n                S[j][k] = K1(el_j, el_k)\\n        return S\\n\\n    def generate_U(self) -> np.ndarray:\\n        u = []\\n        for i, el in enumerate(self.net[1:-1]):\\n            u.append(self.right(el))\\n        return np.array(u)\\n\\n    def solve_equation(self):\\n        R = self.generate_R()\\n        S = self.generate_S()\\n        U = self.generate_U()\\n        solution = np.linalg.solve(self.alpha * R + self.h * S, U)\\n        return np.array([z_0, *solution, z_1])\";\n",
       "                var nbb_formatted_code = \"class EquationSolver:\\n    def __init__(\\n        self, n: int, alpha: float, right: OneArgFunc, p: OneArgFunc, r: OneArgFunc\\n    ):\\n        self.N = n\\n        self.alpha = alpha\\n        self.right = right\\n        self.p = p\\n        self.r = r\\n\\n        self.net = np.linspace(0, 1, n)\\n        self.h = self.net[1] - self.net[0]\\n        self.solution = self.solve_equation()\\n\\n    def p_left(self, i):\\n        return self.p((self.net[i] + self.net[i - 1]) / 2)\\n\\n    def p_right(self, i):\\n        return self.p((self.net[i] + self.net[i + 1]) / 2)\\n\\n    def generate_R(self) -> np.ndarray:\\n        upper_rim = -np.array([self.p_left(i) for i in range(2, self.N - 1)]) / (\\n            self.h ** 2\\n        )\\n\\n        lower_rim = -np.array([self.p_right(i) for i in range(1, self.N - 2)]) / (\\n            self.h ** 2\\n        )\\n\\n        diagonal = np.array(\\n            [\\n                (self.p_left(i) + self.p_right(i)) / (self.h ** 2) + self.r(self.net[i])\\n                for i in range(1, self.N - 1)\\n            ]\\n        )\\n\\n        R = np.zeros((self.N - 2, self.N - 2))\\n        set_diag(R, diagonal)\\n        set_diag(R, lower_rim, offset=-1)\\n        set_diag(R, upper_rim, offset=1)\\n\\n        return R\\n\\n    def generate_S(self) -> np.ndarray:\\n        S = np.identity(self.N - 2)\\n        for j, el_j in enumerate(self.net[1:-1]):\\n            for k, el_k in enumerate(self.net[1:-1]):\\n                S[j][k] = K1(el_j, el_k)\\n        return S\\n\\n    def generate_U(self) -> np.ndarray:\\n        u = []\\n        for i, el in enumerate(self.net[1:-1]):\\n            u.append(self.right(el))\\n        return np.array(u)\\n\\n    def solve_equation(self):\\n        R = self.generate_R()\\n        S = self.generate_S()\\n        U = self.generate_U()\\n        solution = np.linalg.solve(self.alpha * R + self.h * S, U)\\n        return np.array([z_0, *solution, z_1])\";\n",
       "                var nbb_cells = Jupyter.notebook.get_cells();\n",
       "                for (var i = 0; i < nbb_cells.length; ++i) {\n",
       "                    if (nbb_cells[i].input_prompt_number == nbb_cell_id) {\n",
       "                        if (nbb_cells[i].get_text() == nbb_unformatted_code) {\n",
       "                             nbb_cells[i].set_text(nbb_formatted_code);\n",
       "                        }\n",
       "                        break;\n",
       "                    }\n",
       "                }\n",
       "            }, 500);\n",
       "            "
      ],
      "text/plain": [
       "<IPython.core.display.Javascript object>"
      ]
     },
     "metadata": {},
     "output_type": "display_data"
    }
   ],
   "source": [
    "class EquationSolver:\n",
    "    def __init__(\n",
    "        self, n: int, alpha: float, right: OneArgFunc, p: OneArgFunc, r: OneArgFunc\n",
    "    ):\n",
    "        self.N = n\n",
    "        self.alpha = alpha\n",
    "        self.right = right\n",
    "        self.p = p\n",
    "        self.r = r\n",
    "\n",
    "        self.net = np.linspace(0, 1, n)\n",
    "        self.h = self.net[1] - self.net[0]\n",
    "        self.solution = self.solve_equation()\n",
    "\n",
    "    def p_left(self, i):\n",
    "        return self.p((self.net[i] + self.net[i - 1]) / 2)\n",
    "\n",
    "    def p_right(self, i):\n",
    "        return self.p((self.net[i] + self.net[i + 1]) / 2)\n",
    "\n",
    "    def generate_R(self) -> np.ndarray:\n",
    "        upper_rim = -np.array([self.p_left(i) for i in range(2, self.N - 1)]) / (\n",
    "            self.h ** 2\n",
    "        )\n",
    "\n",
    "        lower_rim = -np.array([self.p_right(i) for i in range(1, self.N - 2)]) / (\n",
    "            self.h ** 2\n",
    "        )\n",
    "\n",
    "        diagonal = np.array(\n",
    "            [\n",
    "                (self.p_left(i) + self.p_right(i)) / (self.h ** 2) + self.r(self.net[i])\n",
    "                for i in range(1, self.N - 1)\n",
    "            ]\n",
    "        )\n",
    "\n",
    "        R = np.zeros((self.N - 2, self.N - 2))\n",
    "        set_diag(R, diagonal)\n",
    "        set_diag(R, lower_rim, offset=-1)\n",
    "        set_diag(R, upper_rim, offset=1)\n",
    "\n",
    "        return R\n",
    "\n",
    "    def generate_S(self) -> np.ndarray:\n",
    "        S = np.identity(self.N - 2)\n",
    "        for j, el_j in enumerate(self.net[1:-1]):\n",
    "            for k, el_k in enumerate(self.net[1:-1]):\n",
    "                S[j][k] = K1(el_j, el_k)\n",
    "        return S\n",
    "\n",
    "    def generate_U(self) -> np.ndarray:\n",
    "        u = []\n",
    "        for i, el in enumerate(self.net[1:-1]):\n",
    "            u.append(self.right(el))\n",
    "        return np.array(u)\n",
    "\n",
    "    def solve_equation(self):\n",
    "        R = self.generate_R()\n",
    "        S = self.generate_S()\n",
    "        U = self.generate_U()\n",
    "        solution = np.linalg.solve(self.alpha * R + self.h * S, U)\n",
    "        return np.array([z_0, *solution, z_1])"
   ]
  },
  {
   "cell_type": "code",
   "execution_count": 71,
   "id": "e36f82f2",
   "metadata": {},
   "outputs": [
    {
     "data": {
      "application/javascript": [
       "\n",
       "            setTimeout(function() {\n",
       "                var nbb_cell_id = 71;\n",
       "                var nbb_unformatted_code = \"def search_parameters_for_second(\\n    right: OneArgFunc,\\n    alpha_edges: Tuple = None,\\n    alpha_precision: int = 100,\\n    p_list: List[OneArgFunc] = None,\\n    r_list: List[OneArgFunc] = None,\\n):\\n    if alpha_edges is None:\\n        alpha_edges = (-20.0, 0)\\n    alpha_space = np.logspace(alpha_edges[0], alpha_edges[1], alpha_precision)\\n\\n    if p_list is None:\\n        p_dict = {'1': lambda x: 1, 'x': lambda x: x, 'x^2':lambda x: x ** 2}\\n    if r_list is None:\\n        r_dict = {'1': lambda x: 1, 'x': lambda x: x, 'x^2':lambda x: x ** 2}\\n\\n    best_params = None\\n    best_error = np.inf\\n    combinations = itertools.product(alpha_space, p_dict.keys(), p_dict.keys())\\n    for conf in tqdm(list(combinations)):\\n        alpha, p_key, r_key = conf\\n        p, r = p_dict[p_key], r_dict[r_key]\\n        solver = EquationSolver(n=1000, alpha=alpha, right=right, p=p, r=r)\\n        net, solution = solver.net, solver.solution\\n        error = verify_solution(net, solution, right)\\n        if error < best_error:\\n            best_error = error\\n            best_params = conf\\n    return best_params, best_error\";\n",
       "                var nbb_formatted_code = \"def search_parameters_for_second(\\n    right: OneArgFunc,\\n    alpha_edges: Tuple = None,\\n    alpha_precision: int = 100,\\n    p_list: List[OneArgFunc] = None,\\n    r_list: List[OneArgFunc] = None,\\n):\\n    if alpha_edges is None:\\n        alpha_edges = (-20.0, 0)\\n    alpha_space = np.logspace(alpha_edges[0], alpha_edges[1], alpha_precision)\\n\\n    if p_list is None:\\n        p_dict = {\\\"1\\\": lambda x: 1, \\\"x\\\": lambda x: x, \\\"x^2\\\": lambda x: x ** 2}\\n    if r_list is None:\\n        r_dict = {\\\"1\\\": lambda x: 1, \\\"x\\\": lambda x: x, \\\"x^2\\\": lambda x: x ** 2}\\n\\n    best_params = None\\n    best_error = np.inf\\n    combinations = itertools.product(alpha_space, p_dict.keys(), p_dict.keys())\\n    for conf in tqdm(list(combinations)):\\n        alpha, p_key, r_key = conf\\n        p, r = p_dict[p_key], r_dict[r_key]\\n        solver = EquationSolver(n=1000, alpha=alpha, right=right, p=p, r=r)\\n        net, solution = solver.net, solver.solution\\n        error = verify_solution(net, solution, right)\\n        if error < best_error:\\n            best_error = error\\n            best_params = conf\\n    return best_params, best_error\";\n",
       "                var nbb_cells = Jupyter.notebook.get_cells();\n",
       "                for (var i = 0; i < nbb_cells.length; ++i) {\n",
       "                    if (nbb_cells[i].input_prompt_number == nbb_cell_id) {\n",
       "                        if (nbb_cells[i].get_text() == nbb_unformatted_code) {\n",
       "                             nbb_cells[i].set_text(nbb_formatted_code);\n",
       "                        }\n",
       "                        break;\n",
       "                    }\n",
       "                }\n",
       "            }, 500);\n",
       "            "
      ],
      "text/plain": [
       "<IPython.core.display.Javascript object>"
      ]
     },
     "metadata": {},
     "output_type": "display_data"
    }
   ],
   "source": [
    "def search_parameters_for_second(\n",
    "    right: OneArgFunc,\n",
    "    alpha_edges: Tuple = None,\n",
    "    alpha_precision: int = 100,\n",
    "    p_list: List[OneArgFunc] = None,\n",
    "    r_list: List[OneArgFunc] = None,\n",
    "):\n",
    "    if alpha_edges is None:\n",
    "        alpha_edges = (-20.0, 0)\n",
    "    alpha_space = np.logspace(alpha_edges[0], alpha_edges[1], alpha_precision)\n",
    "\n",
    "    if p_list is None:\n",
    "        p_dict = {\"1\": lambda x: 1, \"x\": lambda x: x, \"x^2\": lambda x: x ** 2}\n",
    "    if r_list is None:\n",
    "        r_dict = {\"1\": lambda x: 1, \"x\": lambda x: x, \"x^2\": lambda x: x ** 2}\n",
    "\n",
    "    best_params = None\n",
    "    best_error = np.inf\n",
    "    combinations = itertools.product(alpha_space, p_dict.keys(), p_dict.keys())\n",
    "    for conf in tqdm(list(combinations)):\n",
    "        alpha, p_key, r_key = conf\n",
    "        p, r = p_dict[p_key], r_dict[r_key]\n",
    "        solver = EquationSolver(n=1000, alpha=alpha, right=right, p=p, r=r)\n",
    "        net, solution = solver.net, solver.solution\n",
    "        error = verify_solution(net, solution, right)\n",
    "        if error < best_error:\n",
    "            best_error = error\n",
    "            best_params = conf\n",
    "    return best_params, best_error"
   ]
  },
  {
   "cell_type": "code",
   "execution_count": 73,
   "id": "36933118",
   "metadata": {},
   "outputs": [
    {
     "name": "stderr",
     "output_type": "stream",
     "text": [
      "100%|█████████████████████████████████████████| 900/900 [37:41<00:00,  2.51s/it]\n"
     ]
    },
    {
     "data": {
      "text/plain": [
       "((0.09770099572992247, 'x', 'x^2'), 0.0025200029553702485)"
      ]
     },
     "execution_count": 73,
     "metadata": {},
     "output_type": "execute_result"
    },
    {
     "data": {
      "application/javascript": [
       "\n",
       "            setTimeout(function() {\n",
       "                var nbb_cell_id = 73;\n",
       "                var nbb_unformatted_code = \"search_parameters_for_second(u1)\";\n",
       "                var nbb_formatted_code = \"search_parameters_for_second(u1)\";\n",
       "                var nbb_cells = Jupyter.notebook.get_cells();\n",
       "                for (var i = 0; i < nbb_cells.length; ++i) {\n",
       "                    if (nbb_cells[i].input_prompt_number == nbb_cell_id) {\n",
       "                        if (nbb_cells[i].get_text() == nbb_unformatted_code) {\n",
       "                             nbb_cells[i].set_text(nbb_formatted_code);\n",
       "                        }\n",
       "                        break;\n",
       "                    }\n",
       "                }\n",
       "            }, 500);\n",
       "            "
      ],
      "text/plain": [
       "<IPython.core.display.Javascript object>"
      ]
     },
     "metadata": {},
     "output_type": "display_data"
    }
   ],
   "source": [
    "search_parameters_for_second(u1)"
   ]
  },
  {
   "cell_type": "code",
   "execution_count": 105,
   "id": "55a5940a",
   "metadata": {},
   "outputs": [
    {
     "data": {
      "text/plain": [
       "{10: 0.0005503300017153379,\n",
       " 50: 0.007384438002191018,\n",
       " 100: 0.044256492001295555,\n",
       " 500: 0.6620176680007717,\n",
       " 1000: 2.517906421999214,\n",
       " 5000: 63.455261134000466,\n",
       " 10000: 267.3843905549984}"
      ]
     },
     "execution_count": 105,
     "metadata": {},
     "output_type": "execute_result"
    },
    {
     "data": {
      "application/javascript": [
       "\n",
       "            setTimeout(function() {\n",
       "                var nbb_cell_id = 105;\n",
       "                var nbb_unformatted_code = \"times = []\\nn_space = [10, 50, 100, 500, 1000, 5000, 10_000]\\nfor n in n_space:\\n    start = time.perf_counter()\\n    EquationSolver(n, 0.0977, p=lambda x: x, r=lambda x: x ** 2, right=u1)\\n    elapsed = time.perf_counter()\\n    times.append(elapsed - start)\\ndict(zip(n_space, times))\";\n",
       "                var nbb_formatted_code = \"times = []\\nn_space = [10, 50, 100, 500, 1000, 5000, 10_000]\\nfor n in n_space:\\n    start = time.perf_counter()\\n    EquationSolver(n, 0.0977, p=lambda x: x, r=lambda x: x ** 2, right=u1)\\n    elapsed = time.perf_counter()\\n    times.append(elapsed - start)\\ndict(zip(n_space, times))\";\n",
       "                var nbb_cells = Jupyter.notebook.get_cells();\n",
       "                for (var i = 0; i < nbb_cells.length; ++i) {\n",
       "                    if (nbb_cells[i].input_prompt_number == nbb_cell_id) {\n",
       "                        if (nbb_cells[i].get_text() == nbb_unformatted_code) {\n",
       "                             nbb_cells[i].set_text(nbb_formatted_code);\n",
       "                        }\n",
       "                        break;\n",
       "                    }\n",
       "                }\n",
       "            }, 500);\n",
       "            "
      ],
      "text/plain": [
       "<IPython.core.display.Javascript object>"
      ]
     },
     "metadata": {},
     "output_type": "display_data"
    }
   ],
   "source": [
    "times = []\n",
    "n_space = [10, 50, 100, 500, 1000, 5000, 10_000]\n",
    "for n in n_space:\n",
    "    start = time.perf_counter()\n",
    "    EquationSolver(n, 0.0977, p=lambda x: x, r=lambda x: x ** 2, right=u1)\n",
    "    elapsed = time.perf_counter()\n",
    "    times.append(elapsed - start)\n",
    "dict(zip(n_space, times))"
   ]
  },
  {
   "cell_type": "code",
   "execution_count": 79,
   "id": "8dbd5753",
   "metadata": {},
   "outputs": [
    {
     "data": {
      "text/plain": [
       "<AxesSubplot:>"
      ]
     },
     "execution_count": 79,
     "metadata": {},
     "output_type": "execute_result"
    },
    {
     "data": {
      "image/png": "[encoded data removed]",
      "text/plain": [
       "<Figure size 1152x648 with 1 Axes>"
      ]
     },
     "metadata": {},
     "output_type": "display_data"
    },
    {
     "data": {
      "application/javascript": [
       "\n",
       "            setTimeout(function() {\n",
       "                var nbb_cell_id = 79;\n",
       "                var nbb_unformatted_code = \"solver = EquationSolver(1000, 0.0977, p=lambda x: x, r=lambda x: x ** 2, right=u1)\\nsns.lineplot(x=solver.net, y=solver.solution)\";\n",
       "                var nbb_formatted_code = \"solver = EquationSolver(1000, 0.0977, p=lambda x: x, r=lambda x: x ** 2, right=u1)\\nsns.lineplot(x=solver.net, y=solver.solution)\";\n",
       "                var nbb_cells = Jupyter.notebook.get_cells();\n",
       "                for (var i = 0; i < nbb_cells.length; ++i) {\n",
       "                    if (nbb_cells[i].input_prompt_number == nbb_cell_id) {\n",
       "                        if (nbb_cells[i].get_text() == nbb_unformatted_code) {\n",
       "                             nbb_cells[i].set_text(nbb_formatted_code);\n",
       "                        }\n",
       "                        break;\n",
       "                    }\n",
       "                }\n",
       "            }, 500);\n",
       "            "
      ],
      "text/plain": [
       "<IPython.core.display.Javascript object>"
      ]
     },
     "metadata": {},
     "output_type": "display_data"
    }
   ],
   "source": [
    "solver = EquationSolver(1000, 0.0977, p=lambda x: x, r=lambda x: x ** 2, right=u1)\n",
    "sns.lineplot(x=solver.net, y=solver.solution)"
   ]
  }
 ],
 "metadata": {
  "kernelspec": {
   "display_name": "Python 3 (ipykernel)",
   "language": "python",
   "name": "python3"
  },
  "language_info": {
   "codemirror_mode": {
    "name": "ipython",
    "version": 3
   },
   "file_extension": ".py",
   "mimetype": "text/x-python",
   "name": "python",
   "nbconvert_exporter": "python",
   "pygments_lexer": "ipython3",
   "version": "3.8.10"
  }
 },
 "nbformat": 4,
 "nbformat_minor": 5
}
