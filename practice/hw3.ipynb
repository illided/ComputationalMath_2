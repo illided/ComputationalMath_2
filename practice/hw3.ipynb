{
 "cells": [
  {
   "cell_type": "markdown",
   "metadata": {
    "collapsed": true,
    "pycharm": {
     "name": "#%% md\n"
    }
   },
   "source": [
    "# ДЗ №3\n",
    "Задачи линейной алгебры. Решение СЛАУ"
   ]
  },
  {
   "cell_type": "code",
   "execution_count": 6,
   "outputs": [],
   "source": [
    "import numpy as np\n",
    "from numpy.linalg import norm\n",
    "import pandas as pd\n",
    "from typing import Tuple"
   ],
   "metadata": {
    "collapsed": false,
    "pycharm": {
     "name": "#%%\n"
    }
   }
  },
  {
   "cell_type": "code",
   "execution_count": 7,
   "outputs": [],
   "source": [
    "def cond(m: np.array) -> float:\n",
    "    M_inv = np.linalg.inv(m)\n",
    "    return norm(M_inv) * norm(m)"
   ],
   "metadata": {
    "collapsed": false,
    "pycharm": {
     "name": "#%%\n"
    }
   }
  },
  {
   "cell_type": "code",
   "execution_count": 8,
   "outputs": [],
   "source": [
    "def generate_rotation_matrix(i: int, j: int, z: np.ndarray) -> np.ndarray:\n",
    "    n = z.shape[0]\n",
    "    sq = np.sqrt(z[i]**2 + z[j]**2)\n",
    "    cos_phi = z[i] / sq\n",
    "    sin_phi = - z[j] / sq\n",
    "\n",
    "    T = np.identity(n)\n",
    "    T[i, i] = cos_phi\n",
    "    T[j, j] = cos_phi\n",
    "    T[j, i] = sin_phi\n",
    "    T[i, j] = -sin_phi\n",
    "\n",
    "    return T\n",
    "\n",
    "def generate_Q(A: np.ndarray) -> np.ndarray:\n",
    "    n = A.shape[0]\n",
    "    A_copy = A.copy()\n",
    "    M = np.eye(n)\n",
    "    for i in range(n):\n",
    "        for j in range(i + 1, n):\n",
    "            T = generate_rotation_matrix(i, j, A_copy[:, i])\n",
    "            M = np.matmul(M, T.T)\n",
    "            A_copy = np.matmul(T, A_copy)\n",
    "    return M\n",
    "\n",
    "def qr_decomposition(A: np.ndarray) -> Tuple[np.ndarray, np.ndarray]:\n",
    "    Q = generate_Q(A)\n",
    "    return Q, np.matmul(Q.T, A)"
   ],
   "metadata": {
    "collapsed": false,
    "pycharm": {
     "name": "#%%\n"
    }
   }
  },
  {
   "cell_type": "code",
   "execution_count": 9,
   "outputs": [],
   "source": [
    "def solve_for_upper_triangle(A: np.ndarray, b: np.ndarray) -> np.ndarray:\n",
    "    n = A.shape[0]\n",
    "    A = np.c_[A, b]\n",
    "    solutions = np.array([A[n - 1][n] / A[n - 1][n - 1]])\n",
    "    for i in range(n - 2, -1, -1):\n",
    "        x = A[i][n] - np.dot(solutions, A[i, (i+1):n])\n",
    "        solutions = np.insert(solutions, 0, x / A[i, i])\n",
    "    solutions = solutions.T\n",
    "    return solutions\n",
    "\n",
    "def solve_with_qr(A: np.ndarray, u: np.ndarray) -> Tuple[np.ndarray, pd.DataFrame]:\n",
    "    n = A.shape[0]\n",
    "    Q, R = qr_decomposition(A)\n",
    "    u_modified = np.matmul(Q.T, u)\n",
    "    x = solve_for_upper_triangle(R, u_modified)\n",
    "\n",
    "    stat = pd.DataFrame({\n",
    "        'Relative error (%)': [norm(np.matmul(A, x).reshape((n, 1)) - u) / norm(u)],\n",
    "        'Cond_A': [cond(A)],\n",
    "        'Cond_Q': [cond(Q)],\n",
    "        'Cond_R': [cond(R)]\n",
    "    })\n",
    "\n",
    "    return x, stat"
   ],
   "metadata": {
    "collapsed": false,
    "pycharm": {
     "name": "#%%\n"
    }
   }
  },
  {
   "cell_type": "code",
   "execution_count": 10,
   "outputs": [],
   "source": [
    "A = np.array([\n",
    "    [1,2,3],\n",
    "    [3,4,5],\n",
    "    [9,7,1]\n",
    "])\n",
    "\n",
    "u = np.array([\n",
    "    [1],\n",
    "    [2],\n",
    "    [9]\n",
    "])\n",
    "\n",
    "x, stat = solve_with_qr(A, u)"
   ],
   "metadata": {
    "collapsed": false,
    "pycharm": {
     "name": "#%%\n"
    }
   }
  },
  {
   "cell_type": "code",
   "execution_count": 11,
   "outputs": [
    {
     "data": {
      "text/plain": "   Relative error (%)      Cond_A  Cond_Q      Cond_R\n0        2.141588e-16  112.203777     3.0  112.203777",
      "text/html": "<div>\n<style scoped>\n    .dataframe tbody tr th:only-of-type {\n        vertical-align: middle;\n    }\n\n    .dataframe tbody tr th {\n        vertical-align: top;\n    }\n\n    .dataframe thead th {\n        text-align: right;\n    }\n</style>\n<table border=\"1\" class=\"dataframe\">\n  <thead>\n    <tr style=\"text-align: right;\">\n      <th></th>\n      <th>Relative error (%)</th>\n      <th>Cond_A</th>\n      <th>Cond_Q</th>\n      <th>Cond_R</th>\n    </tr>\n  </thead>\n  <tbody>\n    <tr>\n      <th>0</th>\n      <td>2.141588e-16</td>\n      <td>112.203777</td>\n      <td>3.0</td>\n      <td>112.203777</td>\n    </tr>\n  </tbody>\n</table>\n</div>"
     },
     "execution_count": 11,
     "metadata": {},
     "output_type": "execute_result"
    }
   ],
   "source": [
    "stat"
   ],
   "metadata": {
    "collapsed": false,
    "pycharm": {
     "name": "#%%\n"
    }
   }
  },
  {
   "cell_type": "markdown",
   "source": [
    "# Тестирование"
   ],
   "metadata": {
    "collapsed": false,
    "pycharm": {
     "name": "#%% md\n"
    }
   }
  },
  {
   "cell_type": "code",
   "execution_count": 15,
   "outputs": [],
   "source": [
    "from scipy.linalg import hilbert"
   ],
   "metadata": {
    "collapsed": false,
    "pycharm": {
     "name": "#%%\n"
    }
   }
  },
  {
   "cell_type": "code",
   "execution_count": 12,
   "outputs": [],
   "source": [
    "# Пример из презентации\n",
    "A = np.array([\n",
    "    [1, 0.99],\n",
    "    [0.99, 0.98]\n",
    "])\n",
    "\n",
    "b = np.array([\n",
    "    [1.99],\n",
    "    [1.97]\n",
    "])"
   ],
   "metadata": {
    "collapsed": false,
    "pycharm": {
     "name": "#%%\n"
    }
   }
  },
  {
   "cell_type": "code",
   "execution_count": 13,
   "outputs": [
    {
     "data": {
      "text/plain": "   Relative error (%)   Cond_A  Cond_Q   Cond_R\n0        1.121423e-16  39206.0     2.0  39206.0",
      "text/html": "<div>\n<style scoped>\n    .dataframe tbody tr th:only-of-type {\n        vertical-align: middle;\n    }\n\n    .dataframe tbody tr th {\n        vertical-align: top;\n    }\n\n    .dataframe thead th {\n        text-align: right;\n    }\n</style>\n<table border=\"1\" class=\"dataframe\">\n  <thead>\n    <tr style=\"text-align: right;\">\n      <th></th>\n      <th>Relative error (%)</th>\n      <th>Cond_A</th>\n      <th>Cond_Q</th>\n      <th>Cond_R</th>\n    </tr>\n  </thead>\n  <tbody>\n    <tr>\n      <th>0</th>\n      <td>1.121423e-16</td>\n      <td>39206.0</td>\n      <td>2.0</td>\n      <td>39206.0</td>\n    </tr>\n  </tbody>\n</table>\n</div>"
     },
     "execution_count": 13,
     "metadata": {},
     "output_type": "execute_result"
    }
   ],
   "source": [
    "_, stat = solve_with_qr(A, b)\n",
    "stat"
   ],
   "metadata": {
    "collapsed": false,
    "pycharm": {
     "name": "#%%\n"
    }
   }
  },
  {
   "cell_type": "code",
   "execution_count": 16,
   "outputs": [
    {
     "data": {
      "text/plain": "     Relative error (%)        Cond_A  Cond_Q        Cond_R\n3              0.825696  5.261588e+02     3.0  5.261588e+02\n5              1.239001  4.808491e+05     5.0  4.808491e+05\n10             1.967242  1.633364e+13    10.0  1.633241e+13\n20             2.967396  2.364931e+18    20.0  1.786334e+18\n100            7.071205  7.604489e+18   100.0  4.650058e+19",
      "text/html": "<div>\n<style scoped>\n    .dataframe tbody tr th:only-of-type {\n        vertical-align: middle;\n    }\n\n    .dataframe tbody tr th {\n        vertical-align: top;\n    }\n\n    .dataframe thead th {\n        text-align: right;\n    }\n</style>\n<table border=\"1\" class=\"dataframe\">\n  <thead>\n    <tr style=\"text-align: right;\">\n      <th></th>\n      <th>Relative error (%)</th>\n      <th>Cond_A</th>\n      <th>Cond_Q</th>\n      <th>Cond_R</th>\n    </tr>\n  </thead>\n  <tbody>\n    <tr>\n      <th>3</th>\n      <td>0.825696</td>\n      <td>5.261588e+02</td>\n      <td>3.0</td>\n      <td>5.261588e+02</td>\n    </tr>\n    <tr>\n      <th>5</th>\n      <td>1.239001</td>\n      <td>4.808491e+05</td>\n      <td>5.0</td>\n      <td>4.808491e+05</td>\n    </tr>\n    <tr>\n      <th>10</th>\n      <td>1.967242</td>\n      <td>1.633364e+13</td>\n      <td>10.0</td>\n      <td>1.633241e+13</td>\n    </tr>\n    <tr>\n      <th>20</th>\n      <td>2.967396</td>\n      <td>2.364931e+18</td>\n      <td>20.0</td>\n      <td>1.786334e+18</td>\n    </tr>\n    <tr>\n      <th>100</th>\n      <td>7.071205</td>\n      <td>7.604489e+18</td>\n      <td>100.0</td>\n      <td>4.650058e+19</td>\n    </tr>\n  </tbody>\n</table>\n</div>"
     },
     "execution_count": 16,
     "metadata": {},
     "output_type": "execute_result"
    }
   ],
   "source": [
    "# Матрица Гильберта\n",
    "sizes = [3, 5, 10, 20, 100]\n",
    "H_n = [hilbert(n) for n in sizes]\n",
    "stats = []\n",
    "for H, n in zip(H_n, sizes):\n",
    "    u = np.matmul(H, np.ones(n))\n",
    "    _, stat = solve_with_qr(H, u)\n",
    "    stats.append(stat)\n",
    "s = pd.concat(stats)\n",
    "s.index = sizes\n",
    "s\n"
   ],
   "metadata": {
    "collapsed": false,
    "pycharm": {
     "name": "#%%\n"
    }
   }
  }
 ],
 "metadata": {
  "kernelspec": {
   "display_name": "Python 3",
   "language": "python",
   "name": "python3"
  },
  "language_info": {
   "codemirror_mode": {
    "name": "ipython",
    "version": 2
   },
   "file_extension": ".py",
   "mimetype": "text/x-python",
   "name": "python",
   "nbconvert_exporter": "python",
   "pygments_lexer": "ipython2",
   "version": "2.7.6"
  }
 },
 "nbformat": 4,
 "nbformat_minor": 0
}