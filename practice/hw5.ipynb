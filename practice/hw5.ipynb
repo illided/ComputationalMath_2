{
 "cells": [
  {
   "cell_type": "markdown",
   "metadata": {
    "collapsed": true,
    "pycharm": {
     "name": "#%% md\n"
    }
   },
   "source": [
    "# ДЗ №5\n",
    "Частичная проблема собственных чисел"
   ]
  },
  {
   "cell_type": "code",
   "execution_count": 79,
   "outputs": [],
   "source": [
    "import numpy as np\n",
    "from numpy.linalg import norm\n",
    "import seaborn as sns\n",
    "from tqdm import tqdm\n",
    "from typing import Tuple"
   ],
   "metadata": {
    "collapsed": false,
    "pycharm": {
     "name": "#%%\n"
    }
   }
  },
  {
   "cell_type": "code",
   "execution_count": 80,
   "outputs": [],
   "source": [
    "def max_relation_coef(x1, x2) -> float:\n",
    "    abs_relation = np.abs(x1 / x2)\n",
    "    return np.max(abs_relation) - np.min(abs_relation)"
   ],
   "metadata": {
    "collapsed": false,
    "pycharm": {
     "name": "#%%\n"
    }
   }
  },
  {
   "cell_type": "code",
   "execution_count": 89,
   "outputs": [],
   "source": [
    "from abc import abstractmethod\n",
    "\n",
    "class IterationMethod:\n",
    "    def __init__(self, A, eps):\n",
    "        self.error_trace = None\n",
    "        self.n_iterations = None\n",
    "        self.A = A\n",
    "        self.eps = eps\n",
    "        self.x, self.answer = self.solve()\n",
    "\n",
    "    def solve(self) -> Tuple[np.ndarray, float]:\n",
    "        norm_coef = 1\n",
    "        x, answer = self.iterative_process(self.A)\n",
    "        while answer > 1:\n",
    "            norm_coef += 1\n",
    "            self.reset()\n",
    "            x, answer = self.iterative_process(self.A / norm_coef)\n",
    "        return x, answer * norm_coef\n",
    "\n",
    "    def iterative_process(self, A: np.ndarray) -> Tuple[np.ndarray, float]:\n",
    "        self.error_trace = []\n",
    "        self.n_iterations = 0\n",
    "        x, new_answer = self.update_answer(A)\n",
    "        prev_answer = new_answer + self.eps + 1\n",
    "        while abs(new_answer - prev_answer) > self.eps:\n",
    "            prev_answer = new_answer\n",
    "            x, new_answer = self.update_answer(A)\n",
    "            self.n_iterations += 1\n",
    "            self.error_trace.append(abs(new_answer - prev_answer))\n",
    "        return x, new_answer\n",
    "\n",
    "\n",
    "    @abstractmethod\n",
    "    def update_answer(self, A: np.ndarray) -> Tuple[np.ndarray, float]:\n",
    "        ...\n",
    "\n",
    "    @abstractmethod\n",
    "    def reset(self):\n",
    "        ..."
   ],
   "metadata": {
    "collapsed": false,
    "pycharm": {
     "name": "#%%\n"
    }
   }
  },
  {
   "cell_type": "code",
   "execution_count": 96,
   "outputs": [],
   "source": [
    "class SimpleIterationMethod(IterationMethod):\n",
    "    def __init__(self, A, eps=10**(-12)):\n",
    "        n = A.shape[0]\n",
    "        self.x = np.ones(n)\n",
    "        super().__init__(A, eps)\n",
    "\n",
    "    def update_answer(self, A: np.ndarray) -> Tuple[np.ndarray, float]:\n",
    "        new_x = np.matmul(A, self.x)\n",
    "        new_alpha = norm(new_x) / norm(self.x)\n",
    "        self.x = new_x\n",
    "        return new_x, new_alpha\n",
    "\n",
    "    def reset(self):\n",
    "        self.x = np.ones(self.A.shape[0])"
   ],
   "metadata": {
    "collapsed": false,
    "pycharm": {
     "name": "#%%\n"
    }
   }
  },
  {
   "cell_type": "code",
   "execution_count": 88,
   "outputs": [
    {
     "data": {
      "text/plain": "-12.020066612059193"
     },
     "execution_count": 88,
     "metadata": {},
     "output_type": "execute_result"
    }
   ],
   "source": [
    "A = np.array([\n",
    "    [1, 5, 7],\n",
    "    [2, 1, 0],\n",
    "    [4, 2, 9]\n",
    "])\n",
    "\n",
    "simple = SimpleIterationMethod(-A)\n",
    "simple.answer"
   ],
   "metadata": {
    "collapsed": false,
    "pycharm": {
     "name": "#%%\n"
    }
   }
  },
  {
   "cell_type": "code",
   "execution_count": 65,
   "outputs": [],
   "source": [
    "class ScalarIterationMethod(IterationMethod):\n",
    "    def __init__(self, A, eps=10**(-12)):\n",
    "        n = A.shape[0]\n",
    "        self.x = np.ones(n)\n",
    "        self.y = np.ones(n)\n",
    "        super().__init__(A, eps)\n",
    "\n",
    "    def update_answer(self, A: np.ndarray) -> Tuple[np.ndarray, float]:\n",
    "        new_x = np.matmul(A, self.x)\n",
    "        new_y = np.matmul(A.T, self.y)\n",
    "        new_alpha = np.dot(new_x, new_y) / np.dot(self.x, new_y)\n",
    "        self.y = new_y\n",
    "        self.x = new_x\n",
    "        return new_x, new_alpha\n",
    "\n",
    "    def reset(self):\n",
    "        self.x = np.ones(self.A.shape[0])\n",
    "        self.y = np.ones(self.A.shape[0])"
   ],
   "metadata": {
    "collapsed": false,
    "pycharm": {
     "name": "#%%\n"
    }
   }
  },
  {
   "cell_type": "code",
   "execution_count": 66,
   "outputs": [
    {
     "data": {
      "text/plain": "10"
     },
     "execution_count": 66,
     "metadata": {},
     "output_type": "execute_result"
    }
   ],
   "source": [
    "scalar_method = ScalarIterationMethod(A)\n",
    "scalar_method.n_iterations"
   ],
   "metadata": {
    "collapsed": false,
    "pycharm": {
     "name": "#%%\n"
    }
   }
  },
  {
   "cell_type": "markdown",
   "source": [
    "# Зависимость числа итераций от метода"
   ],
   "metadata": {
    "collapsed": false,
    "pycharm": {
     "name": "#%% md\n"
    }
   }
  },
  {
   "cell_type": "code",
   "execution_count": 67,
   "outputs": [],
   "source": [
    "from scipy.linalg import hilbert"
   ],
   "metadata": {
    "collapsed": false,
    "pycharm": {
     "name": "#%%\n"
    }
   }
  },
  {
   "cell_type": "code",
   "execution_count": 104,
   "outputs": [],
   "source": [
    "H = hilbert(10)"
   ],
   "metadata": {
    "collapsed": false,
    "pycharm": {
     "name": "#%%\n"
    }
   }
  },
  {
   "cell_type": "code",
   "execution_count": 105,
   "outputs": [],
   "source": [
    "simple_method = SimpleIterationMethod(H)\n",
    "scalar_method = ScalarIterationMethod(H)"
   ],
   "metadata": {
    "collapsed": false,
    "pycharm": {
     "name": "#%%\n"
    }
   }
  },
  {
   "cell_type": "code",
   "execution_count": 106,
   "outputs": [
    {
     "data": {
      "text/plain": "<Figure size 432x288 with 1 Axes>",
      "image/png": "[encoded data removed]"
     },
     "metadata": {
      "needs_background": "light"
     },
     "output_type": "display_data"
    }
   ],
   "source": [
    "ax1 = sns.lineplot(x=range(simple_method.n_iterations), y=simple_method.error_trace, label='Простой метод')\n",
    "ax2 = sns.lineplot(x=range(scalar_method.n_iterations), y=scalar_method.error_trace, label='Метод скалярных произведений')\n",
    "st = ax2.set(yscale='log',xlabel='iterations', ylabel='error')"
   ],
   "metadata": {
    "collapsed": false,
    "pycharm": {
     "name": "#%%\n"
    }
   }
  }
 ],
 "metadata": {
  "kernelspec": {
   "display_name": "Python 3",
   "language": "python",
   "name": "python3"
  },
  "language_info": {
   "codemirror_mode": {
    "name": "ipython",
    "version": 2
   },
   "file_extension": ".py",
   "mimetype": "text/x-python",
   "name": "python",
   "nbconvert_exporter": "python",
   "pygments_lexer": "ipython2",
   "version": "2.7.6"
  }
 },
 "nbformat": 4,
 "nbformat_minor": 0
}