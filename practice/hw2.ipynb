{
 "cells": [
  {
   "cell_type": "markdown",
   "metadata": {
    "collapsed": true,
    "pycharm": {
     "name": "#%% md\n"
    }
   },
   "source": [
    "Задание второе: решить систему, реализовав итерационные методы, указанные в варианте (варианты - 12.7 по методичке, стр.101, матрицы - из предыдущего задания, 11.6, стр.94)"
   ]
  },
  {
   "cell_type": "code",
   "execution_count": 1,
   "outputs": [],
   "source": [
    "import numpy as np"
   ],
   "metadata": {
    "collapsed": false,
    "pycharm": {
     "name": "#%%\n"
    }
   }
  },
  {
   "cell_type": "markdown",
   "source": [
    "# 1 вариант"
   ],
   "metadata": {
    "collapsed": false,
    "pycharm": {
     "name": "#%% md\n"
    }
   }
  },
  {
   "cell_type": "markdown",
   "source": [
    "№ 1\n",
    "Найти решение $x^{*}$ методом Гаусса"
   ],
   "metadata": {
    "collapsed": false,
    "pycharm": {
     "name": "#%% md\n"
    }
   }
  },
  {
   "cell_type": "code",
   "execution_count": 2,
   "outputs": [],
   "source": [
    "# Матрица из 2 варианта 11.6\n",
    "\n",
    "A = np.array([\n",
    "    [7.35272, 0.88255, -1.378574],\n",
    "    [0.88255,   5.58351,   0.528167],\n",
    "    [-2.27005,  0.528167,   4.430329]\n",
    "])\n",
    "\n",
    "b = np.array([\n",
    "    [1],\n",
    "    [0],\n",
    "    [0]\n",
    "])"
   ],
   "metadata": {
    "collapsed": false,
    "pycharm": {
     "name": "#%%\n"
    }
   }
  },
  {
   "cell_type": "code",
   "execution_count": 3,
   "outputs": [],
   "source": [
    "# По умолчанию мат пакет решает методом Гаусса\n",
    "\n",
    "x_star = np.linalg.solve(A, b)"
   ],
   "metadata": {
    "collapsed": false,
    "pycharm": {
     "name": "#%%\n"
    }
   }
  },
  {
   "cell_type": "code",
   "execution_count": 4,
   "outputs": [
    {
     "data": {
      "text/plain": "array([[ 0.15557738],\n       [-0.03249829],\n       [ 0.0835904 ]])"
     },
     "execution_count": 4,
     "metadata": {},
     "output_type": "execute_result"
    }
   ],
   "source": [
    "x_star"
   ],
   "metadata": {
    "collapsed": false,
    "pycharm": {
     "name": "#%%\n"
    }
   }
  },
  {
   "cell_type": "markdown",
   "source": [
    "№ 2\n",
    "Преобразовать исходную систему к системе вида $x = H_Dx+g_D$ , где $H_D = E − D^{-1}A$, $g_D = D^{-1} * b$.\n",
    " Здесь D — диагональная матрица, у которой на диагонали находятся диагональные элементы матрицы A.\n",
    " Вычислить $||H_D||_{∞}$."
   ],
   "metadata": {
    "collapsed": false,
    "pycharm": {
     "name": "#%% md\n"
    }
   }
  },
  {
   "cell_type": "code",
   "execution_count": 5,
   "outputs": [],
   "source": [
    "n = A.shape[0]"
   ],
   "metadata": {
    "collapsed": false,
    "pycharm": {
     "name": "#%%\n"
    }
   }
  },
  {
   "cell_type": "code",
   "execution_count": 6,
   "outputs": [
    {
     "data": {
      "text/plain": "array([[7.35272 , 0.      , 0.      ],\n       [0.      , 5.58351 , 0.      ],\n       [0.      , 0.      , 4.430329]])"
     },
     "execution_count": 6,
     "metadata": {},
     "output_type": "execute_result"
    }
   ],
   "source": [
    "D = np.identity(n)\n",
    "D[np.diag_indices_from(D)] = np.diag(A)\n",
    "D"
   ],
   "metadata": {
    "collapsed": false,
    "pycharm": {
     "name": "#%%\n"
    }
   }
  },
  {
   "cell_type": "code",
   "execution_count": 7,
   "outputs": [
    {
     "data": {
      "text/plain": "array([[ 0.        , -0.12003041,  0.1874917 ],\n       [-0.15806366,  0.        , -0.09459408],\n       [ 0.51238858, -0.1192162 ,  0.        ]])"
     },
     "execution_count": 7,
     "metadata": {},
     "output_type": "execute_result"
    }
   ],
   "source": [
    "H_D = np.identity(n) - np.matmul(np.linalg.inv(D), A)\n",
    "H_D"
   ],
   "metadata": {
    "collapsed": false,
    "pycharm": {
     "name": "#%%\n"
    }
   }
  },
  {
   "cell_type": "code",
   "execution_count": 8,
   "outputs": [
    {
     "data": {
      "text/plain": "array([[0.13600409],\n       [0.        ],\n       [0.        ]])"
     },
     "execution_count": 8,
     "metadata": {},
     "output_type": "execute_result"
    }
   ],
   "source": [
    "g_D = np.matmul(np.linalg.inv(D), b)\n",
    "g_D"
   ],
   "metadata": {
    "collapsed": false,
    "pycharm": {
     "name": "#%%\n"
    }
   }
  },
  {
   "cell_type": "code",
   "execution_count": 9,
   "outputs": [
    {
     "data": {
      "text/plain": "0.6316047860102488"
     },
     "execution_count": 9,
     "metadata": {},
     "output_type": "execute_result"
    }
   ],
   "source": [
    "H_D_norm = np.linalg.norm(H_D, ord=np.inf)\n",
    "H_D_norm"
   ],
   "metadata": {
    "collapsed": false,
    "pycharm": {
     "name": "#%%\n"
    }
   }
  },
  {
   "cell_type": "markdown",
   "source": [
    "№ 3\n",
    "Вычислить априорную оценку погрешности $||x^{(7)} − x^∗||_∞$"
   ],
   "metadata": {
    "collapsed": false,
    "pycharm": {
     "name": "#%% md\n"
    }
   }
  },
  {
   "cell_type": "code",
   "execution_count": 10,
   "outputs": [
    {
     "data": {
      "text/plain": "0.05490076369097396"
     },
     "execution_count": 10,
     "metadata": {},
     "output_type": "execute_result"
    }
   ],
   "source": [
    "def inf_norm(arr):\n",
    "    return np.linalg.norm(arr, ord=np.inf)\n",
    "\n",
    "x_0 = np.ones_like(g_D)\n",
    "k = 7\n",
    "\n",
    "estimate = inf_norm(H_D) ** k * inf_norm(x_0) + (inf_norm(H_D) ** k * inf_norm(g_D)) / (1 - inf_norm(H_D))\n",
    "estimate"
   ],
   "metadata": {
    "collapsed": false,
    "pycharm": {
     "name": "#%%\n"
    }
   }
  },
  {
   "cell_type": "code",
   "execution_count": 11,
   "outputs": [
    {
     "data": {
      "text/plain": "array([[ 0.24004726],\n       [-0.06935226],\n       [ 0.13437424]])"
     },
     "execution_count": 11,
     "metadata": {},
     "output_type": "execute_result"
    }
   ],
   "source": [
    "np.matmul(H_D, np.matmul(H_D, x_0) + g_D) + g_D"
   ],
   "metadata": {
    "collapsed": false,
    "pycharm": {
     "name": "#%%\n"
    }
   }
  },
  {
   "cell_type": "markdown",
   "source": [
    "№ 4\n",
    "Вычислить приближение $x^{(7)}$ методом простой итерации. Вывести его фактическую\n",
    "погрешность, апостериорную оценку, априорную оценку. Уточнить последнее приближение по Люстернику. Вывести его фактическую погрешность."
   ],
   "metadata": {
    "collapsed": false,
    "pycharm": {
     "name": "#%% md\n"
    }
   }
  },
  {
   "cell_type": "code",
   "execution_count": 12,
   "outputs": [],
   "source": [
    "def simple_iter(H, g, k: int):\n",
    "    appr = {}\n",
    "    x = np.zeros((n, 1))\n",
    "    for i in range(k):\n",
    "        x = np.matmul(H, x) + g\n",
    "        appr[i + 1] = x\n",
    "    return appr"
   ],
   "metadata": {
    "collapsed": false,
    "pycharm": {
     "name": "#%%\n"
    }
   }
  },
  {
   "cell_type": "code",
   "execution_count": 13,
   "outputs": [
    {
     "name": "stdout",
     "output_type": "stream",
     "text": [
      "Априорная оценка: 0.05490076369097396\n",
      "Апостериорная оценка: 0.00044841226065225166\n",
      "Фактическая погрешность: 0.00022110801716208883\n",
      "\n"
     ]
    }
   ],
   "source": [
    "appr = simple_iter(H_D, g_D, 7)\n",
    "x = appr[k]\n",
    "posteriori_est = (inf_norm(H_D) * inf_norm(appr[k] - appr[k - 1])) / (1 - inf_norm(H_D))\n",
    "actual_error = inf_norm(x - x_star)\n",
    "print(f'Априорная оценка: {estimate}\\n'\n",
    "      f'Апостериорная оценка: {posteriori_est}\\n'\n",
    "      f'Фактическая погрешность: {actual_error}\\n')"
   ],
   "metadata": {
    "collapsed": false,
    "pycharm": {
     "name": "#%%\n"
    }
   }
  },
  {
   "cell_type": "code",
   "execution_count": 14,
   "outputs": [
    {
     "data": {
      "text/plain": "0.387849854520505"
     },
     "execution_count": 14,
     "metadata": {},
     "output_type": "execute_result"
    }
   ],
   "source": [
    "# Проверим спектральный радиус матрицы H\n",
    "\n",
    "def spec_rad(M):\n",
    "    return np.max(np.abs(np.linalg.eigvals(M)))\n",
    "\n",
    "p_H = spec_rad(H_D)\n",
    "p_H"
   ],
   "metadata": {
    "collapsed": false,
    "pycharm": {
     "name": "#%%\n"
    }
   }
  },
  {
   "cell_type": "code",
   "execution_count": 15,
   "outputs": [
    {
     "data": {
      "text/plain": "9.089454243642325e-05"
     },
     "execution_count": 15,
     "metadata": {},
     "output_type": "execute_result"
    }
   ],
   "source": [
    "# Спектральный радиус меньше 1, можно применять метод Люстерника\n",
    "\n",
    "x_lust = appr[k - 1] + (appr[k] - appr[k - 1]) / (1 - p_H)\n",
    "inf_norm(x_star - x_lust)"
   ],
   "metadata": {
    "collapsed": false,
    "pycharm": {
     "name": "#%%\n"
    }
   }
  },
  {
   "cell_type": "markdown",
   "source": [
    "№ 5\n",
    "Вычислить приближение $x^{(7)}$ к решению системы $x=H_{D}x+g_D$ методом Зейделя.\n",
    "Вывести его фактическую погрешность.\n",
    "Сравнить с решением, полученным методом простой итерации."
   ],
   "metadata": {
    "collapsed": false,
    "pycharm": {
     "name": "#%% md\n"
    }
   }
  },
  {
   "cell_type": "code",
   "execution_count": 16,
   "outputs": [],
   "source": [
    "def seidel_method(H, g, k) -> list:\n",
    "    n = H.shape[0]\n",
    "    prev_x = np.zeros(n)\n",
    "    x = np.zeros(n)\n",
    "    for it in range(k):\n",
    "        for i in range(n):\n",
    "            x[i] = np.dot(H[i, 0:i], x[0:i]) + np.dot(H[i, i:n], prev_x[i:n]) + g[i]\n",
    "        prev_x = x\n",
    "    return x.reshape((n, 1))"
   ],
   "metadata": {
    "collapsed": false,
    "pycharm": {
     "name": "#%%\n"
    }
   }
  },
  {
   "cell_type": "code",
   "execution_count": 17,
   "outputs": [
    {
     "name": "stdout",
     "output_type": "stream",
     "text": [
      "Факт. погрешность методом простой итерации: 0.00022110801716208883\n",
      "Факт. погрешность методом Зейделя 0.00022086965703820016\n"
     ]
    }
   ],
   "source": [
    "x_seid = seidel_method(H_D, g_D, 7)\n",
    "print(f'Факт. погрешность методом простой итерации: {inf_norm(x - x_star)}')\n",
    "print(f'Факт. погрешность методом Зейделя {inf_norm(x - x_seid)}')"
   ],
   "metadata": {
    "collapsed": false,
    "pycharm": {
     "name": "#%%\n"
    }
   }
  },
  {
   "cell_type": "markdown",
   "source": [
    "№ 6\n",
    "При выполнении задания в математическом пакете определить спектральный радиус матрицы перехода,\n",
    "если рассматривать метод Зейделя как метод простой итерации"
   ],
   "metadata": {
    "collapsed": false,
    "pycharm": {
     "name": "#%% md\n"
    }
   }
  },
  {
   "cell_type": "code",
   "execution_count": 18,
   "outputs": [],
   "source": [
    "from numpy.linalg import inv\n",
    "\n",
    "def get_seid_matrices(H, g):\n",
    "    H_L = np.tril(H, k=-1)\n",
    "    H_R = np.triu(H)\n",
    "    E = np.identity(H.shape[0])\n",
    "\n",
    "    left_term = inv(E - H_L)\n",
    "    H_seid = np.matmul(left_term, H_R)\n",
    "    g_seid = np.matmul(left_term, g)\n",
    "\n",
    "    return H_seid, g_seid"
   ],
   "metadata": {
    "collapsed": false,
    "pycharm": {
     "name": "#%%\n"
    }
   }
  },
  {
   "cell_type": "code",
   "execution_count": 19,
   "outputs": [
    {
     "name": "stdout",
     "output_type": "stream",
     "text": [
      "||H|| = 0.3075221142651971\n",
      "p(H) = 0.16509089667328342\n"
     ]
    }
   ],
   "source": [
    "H_seid, g_seid = get_seid_matrices(H_D, g_D)\n",
    "print(f\"||H|| = {inf_norm(H_seid)}\")\n",
    "print(f\"p(H) = {spec_rad(H_seid)}\")"
   ],
   "metadata": {
    "collapsed": false,
    "pycharm": {
     "name": "#%%\n"
    }
   }
  },
  {
   "cell_type": "markdown",
   "source": [
    "№ 7\n",
    "Вычислить приближение $x^{(7)}$ методом верхней релаксации."
   ],
   "metadata": {
    "collapsed": false,
    "pycharm": {
     "name": "#%% md\n"
    }
   }
  },
  {
   "cell_type": "code",
   "execution_count": 20,
   "outputs": [],
   "source": [
    "def successive_over_relaxation(H, g, k):\n",
    "    q = 2 / (1 + np.sqrt(1 - spec_rad(H) ** 2))\n",
    "    n = H.shape[0]\n",
    "    prev_x = np.zeros(n)\n",
    "    x = np.zeros(n)\n",
    "    for it in range(k):\n",
    "        for i in range(n):\n",
    "            x[i] = prev_x[i] + q * (np.dot(H[i, 0:i], x[0:i]) + np.dot(H[i, (i+1):n], x[(i+1):n]) - prev_x[i] + g[i])\n",
    "        prev_x = x\n",
    "    return x.reshape((n, 1))"
   ],
   "metadata": {
    "collapsed": false,
    "pycharm": {
     "name": "#%%\n"
    }
   }
  },
  {
   "cell_type": "code",
   "execution_count": 28,
   "outputs": [
    {
     "name": "stdout",
     "output_type": "stream",
     "text": [
      "Фактические погрешности (в порядке убывания):\n",
      "\n",
      "Метод простой итерации : 0.00022110801716208883\n",
      "Уточнение методом Люстерника : 9.089454243642325e-05\n",
      "Метод Зейделя : 4.180425676458821e-07\n",
      "Метод верхней релаксации : 8.061693618222066e-09\n"
     ]
    }
   ],
   "source": [
    "x_relax = successive_over_relaxation(H_D, g_D, 7)\n",
    "errors = [\n",
    "    (inf_norm(x_star - x), 'Метод простой итерации'),\n",
    "    (inf_norm(x_star - x_lust), 'Уточнение методом Люстерника'),\n",
    "    (inf_norm(x_star - x_seid), 'Метод Зейделя'),\n",
    "    (inf_norm(x_star - x_relax), 'Метод верхней релаксации')\n",
    "]\n",
    "errors = list(sorted(errors, key=lambda x: x[0], reverse=True))\n",
    "print('Фактические погрешности (в порядке убывания):\\n')\n",
    "print('\\n'.join([f'{er[1]} : {er[0]}' for er in errors]))"
   ],
   "metadata": {
    "collapsed": false,
    "pycharm": {
     "name": "#%%\n"
    }
   }
  }
 ],
 "metadata": {
  "kernelspec": {
   "display_name": "Python 3",
   "language": "python",
   "name": "python3"
  },
  "language_info": {
   "codemirror_mode": {
    "name": "ipython",
    "version": 2
   },
   "file_extension": ".py",
   "mimetype": "text/x-python",
   "name": "python",
   "nbconvert_exporter": "python",
   "pygments_lexer": "ipython2",
   "version": "2.7.6"
  }
 },
 "nbformat": 4,
 "nbformat_minor": 0
}