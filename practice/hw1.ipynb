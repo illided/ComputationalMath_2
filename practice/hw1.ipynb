{
 "cells": [
  {
   "cell_type": "markdown",
   "metadata": {
    "collapsed": true,
    "pycharm": {
     "name": "#%% md\n"
    }
   },
   "source": [
    "Задание первое: решить две системы (одну с “точной” правой частью, вторую с изменённой), найти число обусловленности исходной матрицы, посчитать фактическую погрешность и оценку погрешности (задание - 10.4, варианты - 10.5 по методичке, стр.90). Затем реализовать три метода: Гаусса с выбором главного элемента (по желанию) для решения СЛАУ, метод Жордана для нахождения обратной матрицы и метод LU-разложения для нахождения определителя матрицы (варианты - 11.6 по методичке, стр.94)."
   ]
  },
  {
   "cell_type": "markdown",
   "source": [
    "## Число обусловленности, фактическая погрешность и оценка погрешности"
   ],
   "metadata": {
    "collapsed": false,
    "pycharm": {
     "name": "#%% md\n"
    }
   }
  },
  {
   "cell_type": "code",
   "execution_count": 2,
   "outputs": [],
   "source": [
    "import numpy as np"
   ],
   "metadata": {
    "collapsed": false,
    "pycharm": {
     "name": "#%%\n"
    }
   }
  },
  {
   "cell_type": "code",
   "execution_count": 3,
   "outputs": [],
   "source": [
    "# Матрица из 7 варианта  10.5\n",
    "\n",
    "A = np.array(\n",
    "    [[-402.9, 200.7],\n",
    "     [1204.2, -603.6]]\n",
    ")\n",
    "b = np.array([\n",
    "    [200],\n",
    "    [-600]\n",
    "])\n",
    "\n",
    "b_changed = np.array([\n",
    "    [199],\n",
    "    [-601]\n",
    "])"
   ],
   "metadata": {
    "collapsed": false,
    "pycharm": {
     "name": "#%%\n"
    }
   }
  },
  {
   "cell_type": "code",
   "execution_count": 4,
   "outputs": [
    {
     "data": {
      "text/plain": "1338.0029850746614"
     },
     "execution_count": 4,
     "metadata": {},
     "output_type": "execute_result"
    }
   ],
   "source": [
    "# Число обусловленности\n",
    "\n",
    "from numpy.linalg import norm\n",
    "\n",
    "def cond(m: np.array) -> float:\n",
    "    M_inv = np.linalg.inv(m)\n",
    "    return norm(M_inv) * norm(m)\n",
    "\n",
    "cond(A)"
   ],
   "metadata": {
    "collapsed": false,
    "pycharm": {
     "name": "#%%\n"
    }
   }
  },
  {
   "cell_type": "code",
   "execution_count": 5,
   "outputs": [
    {
     "data": {
      "text/plain": "2.9918656287245793"
     },
     "execution_count": 5,
     "metadata": {},
     "output_type": "execute_result"
    }
   ],
   "source": [
    "# Оценка погрешности\n",
    "\n",
    "def error_estimation(A, d_A, b, d_b) -> float:\n",
    "    return ( cond(A) / (1 - cond(A) * norm(d_A) / norm(A))) * (norm(d_b) / norm(b) + norm(d_A) / norm(A))\n",
    "\n",
    "error_estimation(A, np.zeros_like(A), b, b_changed - b)"
   ],
   "metadata": {
    "collapsed": false,
    "pycharm": {
     "name": "#%%\n"
    }
   }
  },
  {
   "cell_type": "code",
   "execution_count": 6,
   "outputs": [
    {
     "data": {
      "text/plain": "1.8943391987709555"
     },
     "execution_count": 6,
     "metadata": {},
     "output_type": "execute_result"
    }
   ],
   "source": [
    "# Фактическая погрешность\n",
    "\n",
    "x = np.linalg.solve(A, b)\n",
    "x_hat = np.linalg.solve(A, b_changed)\n",
    "\n",
    "norm(x_hat - x) / norm(x)"
   ],
   "metadata": {
    "collapsed": false,
    "pycharm": {
     "name": "#%%\n"
    }
   }
  },
  {
   "cell_type": "markdown",
   "source": [
    "## Реализация методов"
   ],
   "metadata": {
    "collapsed": false,
    "pycharm": {
     "name": "#%% md\n"
    }
   }
  },
  {
   "cell_type": "code",
   "execution_count": null,
   "outputs": [],
   "source": [
    "# Матрица из 1 варианта 11.6\n",
    "\n",
    "A = np.array([\n",
    "    [3.278164, 1.046583, -1.378574],\n",
    "    [1.046583, 2.975937, 0.934251],\n",
    "    [-1.378574, 0.934251, 4.836173]\n",
    "])\n",
    "\n",
    "b = np.array([\n",
    "    [-0.527466],\n",
    "    [2.5268770],\n",
    "    [5.165441]\n",
    "])"
   ],
   "metadata": {
    "collapsed": false,
    "pycharm": {
     "name": "#%%\n"
    }
   }
  },
  {
   "cell_type": "code",
   "execution_count": 29,
   "outputs": [],
   "source": [
    "# Метод Гаусса\n",
    "\n",
    "from numpy import ndarray\n",
    "\n",
    "class GaussianElimination:\n",
    "    def __init__(self, A: ndarray, b: ndarray, eps: float=0.005):\n",
    "        self.M = np.concatenate((A, b), axis=1)\n",
    "        self.n = self.M.shape[0]\n",
    "        self.eps = eps\n",
    "        self.solutions = None\n",
    "\n",
    "        self.forward()\n",
    "        self.backward()\n",
    "\n",
    "    def forward(self):\n",
    "        for i in range(self.n):\n",
    "            self.forward_step(i)\n",
    "\n",
    "    def forward_step(self, k):\n",
    "        if self.M[k, k] < self.eps:\n",
    "            print(f'Во время алгоритма произведено деление '\n",
    "                  f'на малый ведущий элемент A[{k}, {k}] = {self.M[k, k]}')\n",
    "        self.M[k] = self.M[k] / self.M[k, k]\n",
    "        for i in range(k + 1, self.n):\n",
    "            self.M[i] = self.M[i] - self.M[k] * self.M[i][k]\n",
    "\n",
    "    def backward(self):\n",
    "        solutions = np.array([self.M[self.n - 1][self.n]])\n",
    "        for i in range(self.n - 2, -1, -1):\n",
    "            x = self.M[i][self.n] - np.dot(solutions, self.M[i, (i+1):self.n])\n",
    "            solutions = np.insert(solutions, 0, x)\n",
    "        self.solutions = solutions.T"
   ],
   "metadata": {
    "collapsed": false,
    "pycharm": {
     "name": "#%%\n"
    }
   }
  },
  {
   "cell_type": "code",
   "execution_count": 48,
   "outputs": [
    {
     "data": {
      "text/plain": "array([[ 1.11022302e-16, -4.44089210e-16,  0.00000000e+00]])"
     },
     "execution_count": 48,
     "metadata": {},
     "output_type": "execute_result"
    }
   ],
   "source": [
    "x = GaussianElimination(A, b).solutions\n",
    "np.matmul(A, x) - b.T"
   ],
   "metadata": {
    "collapsed": false,
    "pycharm": {
     "name": "#%%\n"
    }
   }
  },
  {
   "cell_type": "code",
   "execution_count": 27,
   "outputs": [],
   "source": [
    "# Схема жордана\n",
    "\n",
    "class JordanScheme:\n",
    "    def __init__(self, A: ndarray):\n",
    "        self.n = A.shape[0]\n",
    "        self.M = np.concatenate((A, np.identity(self.n)), axis=1)\n",
    "\n",
    "        self.forward()\n",
    "        self.inverse = self.M[:, self.n:]\n",
    "\n",
    "    def forward(self):\n",
    "        for i in range(self.n):\n",
    "            self.forward_step(i)\n",
    "\n",
    "    def forward_step(self, k):\n",
    "        self.M[k] = self.M[k] / self.M[k, k]\n",
    "        for i in range(0, self.n):\n",
    "            if i == k:\n",
    "                continue\n",
    "            self.M[i] = self.M[i] - self.M[k] * self.M[i][k]"
   ],
   "metadata": {
    "collapsed": false,
    "pycharm": {
     "name": "#%%\n"
    }
   }
  },
  {
   "cell_type": "code",
   "execution_count": 31,
   "outputs": [
    {
     "data": {
      "text/plain": "array([[ 1.00000000e+00, -9.97386300e-17, -8.01020919e-20],\n       [ 3.34997281e-17,  1.00000000e+00,  5.68909005e-17],\n       [-7.48687361e-17, -5.53197618e-17,  1.00000000e+00]])"
     },
     "execution_count": 31,
     "metadata": {},
     "output_type": "execute_result"
    }
   ],
   "source": [
    "np.matmul(A, JordanScheme(A).inverse)"
   ],
   "metadata": {
    "collapsed": false,
    "pycharm": {
     "name": "#%%\n"
    }
   }
  },
  {
   "cell_type": "code",
   "execution_count": 113,
   "outputs": [],
   "source": [
    "# Нахождение определителя с помощью LU разложения\n",
    "\n",
    "class LUDecomposition:\n",
    "    def __init__(self, A: ndarray):\n",
    "        self.n = A.shape[0]\n",
    "        self.A = A\n",
    "        self.U = np.identity(self.n)\n",
    "        self.L = np.identity(self.n)\n",
    "\n",
    "        self.generate_decomposition()\n",
    "\n",
    "    def generate_decomposition(self):\n",
    "        for i in range(self.n):\n",
    "            for j in range(i, self.n):\n",
    "                self.L[j, i] = self.A[j, i]\n",
    "                if i > 0:\n",
    "                    self.L[j, i] -= np.dot(self.L[j, 0:i], self.U[0:i, i])\n",
    "            for j in range(i, self.n):\n",
    "                self.U[i, j] = self.A[i, j] / self.L[i, i]\n",
    "                if i > 0:\n",
    "                    self.U[i, j] -= np.dot(self.L[i, 0:i], self.U[0:i, j]) / self.L[i, i]\n",
    "\n",
    "    def determinant(self):\n",
    "        return np.product(np.diag(self.L))"
   ],
   "metadata": {
    "collapsed": false,
    "pycharm": {
     "name": "#%%\n"
    }
   }
  },
  {
   "cell_type": "code",
   "execution_count": 114,
   "outputs": [
    {
     "data": {
      "text/plain": "array([[ 0.00000000e+00,  0.00000000e+00,  0.00000000e+00],\n       [ 0.00000000e+00,  0.00000000e+00,  0.00000000e+00],\n       [ 0.00000000e+00, -2.22044605e-16,  0.00000000e+00]])"
     },
     "execution_count": 114,
     "metadata": {},
     "output_type": "execute_result"
    }
   ],
   "source": [
    "# Убеждаемся что получается правильное разложение\n",
    "\n",
    "decomp = LUDecomposition(A)\n",
    "np.matmul(decomp.L, decomp.U) - A"
   ],
   "metadata": {
    "collapsed": false,
    "pycharm": {
     "name": "#%%\n"
    }
   }
  },
  {
   "cell_type": "code",
   "execution_count": 117,
   "outputs": [
    {
     "name": "stdout",
     "output_type": "stream",
     "text": [
      "Сторонняя библиотека: 30.669790066106653 \n",
      "Написанный метод: 30.669790066106664\n"
     ]
    }
   ],
   "source": [
    "# Проверим правильность нахождения определителя\n",
    "\n",
    "lib_det = np.linalg.det(A)\n",
    "our_det = decomp.determinant()\n",
    "\n",
    "print(f'Сторонняя библиотека: {lib_det} \\nНаписанный метод: {our_det}')"
   ],
   "metadata": {
    "collapsed": false,
    "pycharm": {
     "name": "#%%\n"
    }
   }
  }
 ],
 "metadata": {
  "kernelspec": {
   "display_name": "Python 3",
   "language": "python",
   "name": "python3"
  },
  "language_info": {
   "codemirror_mode": {
    "name": "ipython",
    "version": 2
   },
   "file_extension": ".py",
   "mimetype": "text/x-python",
   "name": "python",
   "nbconvert_exporter": "python",
   "pygments_lexer": "ipython2",
   "version": "2.7.6"
  }
 },
 "nbformat": 4,
 "nbformat_minor": 0
}